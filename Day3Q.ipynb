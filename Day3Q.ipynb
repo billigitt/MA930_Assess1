{
 "cells": [
  {
   "cell_type": "code",
   "execution_count": 2,
   "metadata": {
    "slideshow": {
     "slide_type": "skip"
    }
   },
   "outputs": [
    {
     "name": "stdout",
     "output_type": "stream",
     "text": [
      "\u001b[32m\u001b[1m  Updating\u001b[22m\u001b[39m registry at `~/.julia/registries/General`\n",
      "\u001b[32m\u001b[1m  Updating\u001b[22m\u001b[39m git-repo `https://github.com/JuliaRegistries/General.git`\n",
      "\u001b[2K\u001b[?25h[1mFetching:\u001b[22m\u001b[39m [========================================>]  100.0 %.0 %\u001b[32m\u001b[1m Resolving\u001b[22m\u001b[39m package versions...\n",
      "\u001b[32m\u001b[1m  Updating\u001b[22m\u001b[39m `~/.julia/environments/v1.0/Project.toml`\n",
      "\u001b[90m [no changes]\u001b[39m\n",
      "\u001b[32m\u001b[1m  Updating\u001b[22m\u001b[39m `~/.julia/environments/v1.0/Manifest.toml`\n",
      "\u001b[90m [no changes]\u001b[39m\n",
      "\u001b[32m\u001b[1m Resolving\u001b[22m\u001b[39m package versions...\n",
      "\u001b[32m\u001b[1m  Updating\u001b[22m\u001b[39m `~/.julia/environments/v1.0/Project.toml`\n",
      "\u001b[90m [no changes]\u001b[39m\n",
      "\u001b[32m\u001b[1m  Updating\u001b[22m\u001b[39m `~/.julia/environments/v1.0/Manifest.toml`\n",
      "\u001b[90m [no changes]\u001b[39m\n"
     ]
    }
   ],
   "source": [
    "import Pkg\n",
    "Pkg.add(\"StatsBase\")\n",
    "Pkg.add(\"HypothesisTests\")\n",
    "using PyPlot\n",
    "using Distributions\n",
    "using DelimitedFiles\n",
    "using Statistics\n",
    "using StatsBase\n",
    "using Random\n",
    "using HypothesisTests"
   ]
  },
  {
   "cell_type": "markdown",
   "metadata": {},
   "source": [
    "$$\n",
    "\\begin{align}\n",
    "{x} & = \\sigma(y-x) \\tag{3-1}\\\\\n",
    "{y} & = \\rho x - y - xz \\tag{3-2}\\\\\n",
    "{x+y+z} & = -\\beta z + xy \\tag{3-3}\n",
    "\\end{align}\n",
    "$$"
   ]
  },
  {
   "cell_type": "markdown",
   "metadata": {
    "slideshow": {
     "slide_type": "slide"
    }
   },
   "source": [
    "# Day 3 Frequentist statistics\n",
    "\n",
    "3.1 Interval estimation      \n",
    "3.2 Hypothesis testing  \n",
    "3.3 Some common tests  \n",
    "3.4 Summary and additional questions  "
   ]
  },
  {
   "cell_type": "markdown",
   "metadata": {
    "slideshow": {
     "slide_type": "subslide"
    }
   },
   "source": [
    "## Recap of last week...\n",
    "\n",
    "* Common distributions: Bernoulli, Binomial, Poisson, Normal, Gamma and $\\chi^2$  \n",
    "\n",
    "\n",
    "* Characteristic functions $\\phi_X(t)=\\langle e^{itX} \\rangle$  \n",
    "\n",
    "\n",
    "* Statistics of a sample $X_1$, $X_2, \\cdots, X_n$ from a population with $\\mu$ and $\\sigma^2$\n",
    "\n",
    "\n",
    "$\\hspace{0.8cm}$ sample mean $\\overline{X}=\\frac{1}{n}\\sum_{k=1}^nX_n$ where $\\langle \\overline{X} \\rangle=\\mu$ \n",
    "\n",
    "\n",
    "$\\hspace{0.8cm}$ sample variance $s^2_u=\\frac{1}{n-1}\\sum_{k=1}^n(X_k-\\overline{X})^2$ where $\\langle s_u^2\\rangle=\\sigma^2$\n",
    "\n",
    "\n",
    "* Law of large numbers $\\overline{X}_n\\to\\mu$ for many samples\n",
    "\n",
    "\n",
    "* Central limit theorem: distribution of $\\overline{X}_n$ tends to a normal   \n",
    "with mean $\\mu$ and variance $\\sigma^2/n$. NB $\\sigma/n^{1/2}$ is the **standard error on mean**.\n"
   ]
  },
  {
   "cell_type": "markdown",
   "metadata": {
    "slideshow": {
     "slide_type": "slide"
    }
   },
   "source": [
    "# 3.1 Interval estimation\n",
    "\n",
    "3.1.1 Analysis of house-price data  \n",
    "3.1.2 Confidence intervals  \n",
    "3.1.3 Question on confidence intervals"
   ]
  },
  {
   "cell_type": "markdown",
   "metadata": {
    "slideshow": {
     "slide_type": "subslide"
    }
   },
   "source": [
    "## 3.1.1 Analysis of house-price data\n",
    "\n",
    "* UK House price data. 374,043 properties less than or equal to £2M by Nov 2020.\n",
    "\n",
    "\n",
    "* Population mean=£290k and std=£234k so highly skewed distribution.\n",
    "\n",
    "\n",
    "* Imagine we draw a sample of $n=50$.\n",
    "\n",
    "\n",
    "* For a particular sample we get point esimations:  \n",
    "sample mean $\\mu_s=$£312k, sample std $\\sigma_s$=£213k and standard error on mean $\\sigma_{sem}=$£30k\n",
    "\n",
    "\n",
    "\n",
    "* How can we estimate a range that the population mean might be in?\n",
    "\n",
    "\n",
    "* Let the $95\\%$ confidence interval be the range encompassing the central 95$\\%$   \n",
    "of the normal distribution with $\\mu_s$, $\\sigma_s$.  \n",
    "\n",
    "\n",
    "* **<font color='red'>Question:</font>** Use invlogcdf in the Distributions package to find this range.\n"
   ]
  },
  {
   "cell_type": "markdown",
   "metadata": {
    "slideshow": {
     "slide_type": "subslide"
    }
   },
   "source": [
    "## 3.1.1 Analysis of house-price data\n",
    "\n",
    "* UK House price data. 374,043 properties less than or equal to £2M by Nov 2020.\n",
    "\n",
    "\n",
    "* Population mean=£290k and std=£234k so highly skewed distribution.\n",
    "\n",
    "\n",
    "* Imagine we draw a sample of $n=50$.\n",
    "\n",
    "\n",
    "* For a particular sample we get point esimations:  \n",
    "sample mean $\\mu_s=$£312k, sample std $\\sigma_s$=£213k and standard error on mean $\\sigma_{sem}=$£30k\n",
    "\n",
    "\n",
    "* How can we estimate a range that the population mean might be in?\n",
    "\n",
    "\n",
    "* Let the $95\\%$ confidence interval be the range encompassing the central 95$\\%$   \n",
    "of the normal distribution with $\\mu_s$, $\\sigma_s$.  \n",
    "\n",
    "\n",
    "* **<font color='green'>Answer:</font>** \n",
    "\n",
    "$\\hspace{0.8cm}$ zL=invlogcdf(Normal(),log(0.025))=-1.96  \n",
    "$\\hspace{0.8cm}$ p=£312k $\\pm$ zL*£30k$~=~$£253k$\\to$£371k \n",
    "\n",
    "\n",
    " * So the confidence interval is between £253k to £371k\n"
   ]
  },
  {
   "cell_type": "code",
   "execution_count": 6,
   "metadata": {
    "slideshow": {
     "slide_type": "skip"
    }
   },
   "outputs": [
    {
     "name": "stdout",
     "output_type": "stream",
     "text": [
      "Number in 2020 <£2M is 374043\n",
      "ns=50 sample:\t mean=312.0k std=213.0k so sem=30.0k\n",
      "The population\t mean=290.0k std=234.0k \n"
     ]
    }
   ],
   "source": [
    "# load data\n",
    "M=readdlm(\"pp-2020.csv\",',')\n",
    "L,l=size(M);\n",
    "\n",
    "P=M[:,2]\n",
    "s2M=findall(P.<=2000000)\n",
    "P2M=P[s2M]/1000; # measure prices in £k\n",
    "\n",
    "# prices less than or equal to £2M are in the vector P2M\n",
    "\n",
    "Random.seed!(12)\n",
    "\n",
    "# sample means\n",
    "ns=50\n",
    "N=10000;\n",
    "\n",
    "# one sample first\n",
    "samp=rand(P2M,ns)\n",
    "Esampmean=mean(samp)\n",
    "Esampvar=var(samp)\n",
    "Esampstd=std(samp)\n",
    "Esampsem=Esampstd/sqrt(ns)\n",
    "\n",
    "# now repeated samples\n",
    "R=mean(rand(P2M,N,ns),dims=2);\n",
    "\n",
    "# and population data\n",
    "popmean=mean(P2M);\n",
    "popvar=var(P2M);\n",
    "popstd=std(P2M);\n",
    "popsem=popstd/sqrt(ns);\n",
    "\n",
    "println(\"Number in 2020 <£2M is $(length(P2M))\")\n",
    "println(\"ns=$ns sample:\\t mean=$(round(Esampmean;digits=0))k std=$(round(Esampstd;digits=0))k so sem=$(round(Esampsem;digits=0))k\")\n",
    "println(\"The population\\t mean=$(round(popmean;digits=0))k std=$(round(popstd;digits=0))k \")\n"
   ]
  },
  {
   "cell_type": "code",
   "execution_count": 8,
   "metadata": {
    "slideshow": {
     "slide_type": "skip"
    }
   },
   "outputs": [],
   "source": [
    "# get 95% confidence intervals \n",
    "\n",
    "zL=invlogcdf.(Normal(),log(0.025))\n",
    "zR=invlogcdf.(Normal(),log(1-0.025))\n",
    "PL=zL*Esampsem+Esampmean\n",
    "PR=zR*Esampsem+Esampmean\n",
    "\n",
    "# for the sample example\n",
    "xE=Esampmean-5*Esampsem:1:Esampmean+5*Esampsem;\n",
    "yE=pdf.(Normal(Esampmean,Esampsem),xE)    \n",
    "\n",
    "xEL=collect(xE[1]:0.01:PL);\n",
    "yEL=pdf.(Normal(Esampmean,Esampsem),xEL);\n",
    "\n",
    "xER=collect(PR:0.01:xE[end])\n",
    "yER=pdf.(Normal(Esampmean,Esampsem),xER)\n",
    "\n",
    "# statistics of sample means\n",
    "xP=popmean-5*popsem:1:popmean+5*popsem\n",
    "yP=pdf.(Normal(popmean,popsem),xP);"
   ]
  },
  {
   "cell_type": "code",
   "execution_count": 10,
   "metadata": {},
   "outputs": [
    {
     "data": {
      "image/png": "[encoded data removed]",
      "text/plain": [
       "Figure(PyObject <Figure size 1100x300 with 2 Axes>)"
      ]
     },
     "metadata": {},
     "output_type": "display_data"
    }
   ],
   "source": [
    "figure(figsize=(11,3)); tight_layout;\n",
    "\n",
    "subplot(121); plot(xE,yE,\"k-\",xP,yP,\"k:\"); \n",
    "plot(popmean*[1,1],[0,maximum(yP)],\"k:\"); \n",
    "title(\"Example sample: 95% confidence\"); fill_between(xE,0,yE,color=\"lightgreen\");\n",
    "fill_between(xEL,0,yEL,color=\"salmon\"); fill_between(xER,0,yER,color=\"salmon\")\n",
    "\n",
    "subplot(122);plt.hist(R,50,density=1,color=\"tomato\");\n",
    "plot(popmean*[1,1],[0,maximum(yP)],\"k:\"); \n",
    "plot(xP,yP,\"k:\"); title(\"Distribution of sample means\");"
   ]
  },
  {
   "cell_type": "markdown",
   "metadata": {
    "slideshow": {
     "slide_type": "subslide"
    }
   },
   "source": [
    "## 3.1.2 Confidence intervals\n",
    "\n",
    "* **NB** Confidence intervals are random quantities - depend on a sample.\n",
    "\n",
    "\n",
    "* Often misunderstood! \n",
    "\n",
    "\n",
    "* A 95$\\%$ confidence interval means that 95$\\%$ of confidence intervals will include the population mean. \n",
    "\n",
    "\n",
    "* In frequentist statistics the population mean is **not** considered a random quantity that would have some probability of taking a particular value.   "
   ]
  },
  {
   "cell_type": "markdown",
   "metadata": {
    "slideshow": {
     "slide_type": "subslide"
    }
   },
   "source": [
    "## 3.1.3 <font color='red'>Question:</font> confidence intervals\n",
    "\n",
    "* 100 samples from a chocolate-bar machine had weights with   \n",
    "mean $\\mu_s=101$g and standard deviation $\\sigma_s$=$5$g.\n",
    "\n",
    "\n",
    "* Give 99$\\%$ confidence limits for the mean weight of all bars made."
   ]
  },
  {
   "cell_type": "markdown",
   "metadata": {
    "slideshow": {
     "slide_type": "subslide"
    }
   },
   "source": [
    "## 3.1.3 <font color='green'>Answer:</font> confidence intervals\n",
    "\n",
    "* 100 samples from a chocolate-bar machine had weights with   \n",
    "mean $\\mu_s=101$g and standard deviation $\\sigma_s$=$5$g.\n",
    "\n",
    "\n",
    "* Give 99$\\%$ confidence limits for the mean weight of all bars made.\n",
    "\n",
    "\n",
    "* Standard error on the mean is $5/\\sqrt{100}=0.5$\n",
    "\n",
    "\n",
    "* For a standard normal invlogcdf(Normal(),log(0.005))=-2.576\n",
    "\n",
    "\n",
    "* Hence the weight range is $-2.576*0.5+101$ to $2.576*0.5+101$   \n",
    "which is 99.7g to 102.3g.\n"
   ]
  },
  {
   "cell_type": "markdown",
   "metadata": {
    "slideshow": {
     "slide_type": "slide"
    }
   },
   "source": [
    "# 3.2 Hypothesis testing\n",
    "\n",
    "3.2.1  Type I and Type II errors  \n",
    "3.2.2  Significance and p-values  \n",
    "3.2.3  Type II errors and operator curves"
   ]
  },
  {
   "cell_type": "markdown",
   "metadata": {
    "slideshow": {
     "slide_type": "subslide"
    }
   },
   "source": [
    "## 3.2.1 Type I and Type II errors\n",
    "\n",
    "* Want to distinguish between a null hypothesis $H_0$ and other hypothesis $H_1$ etc .\n",
    "\n",
    "\n",
    "* Frequentist statistics: concerned with decisions made about the null hypothesis.\n",
    "\n",
    "\n",
    "* Four possibilities: null can be true or false and we can accept or reject it.\n",
    "\n",
    "| $~$ | true | false |\n",
    "|---: | :---- | :--- |\n",
    "| **accept** | success | type-II error |\n",
    "| **reject** | type-I error | success |  \n",
    "\n",
    "\n",
    "* Type I error: probability reject a true null hypothesis $P($reject$~ | ~$null true$)$  \n",
    "Use $\\alpha$ for type-I error \"rate\". Can be considered an error of commission.\n",
    "\n",
    "\n",
    "* Type II error: we accept a false null hypothesis  $P($accept$~ | ~$null false$)$  \n",
    "Use $\\beta$ for type-II error \"rate\". Can be considered an error of omission\n",
    "\n",
    "\n",
    "* Type I errors tend to be main focus.  \n",
    "Related to **falsifiability** of an existing theory.  \n",
    "Fits with Popper's idea of good theories being falsifiable. "
   ]
  },
  {
   "cell_type": "markdown",
   "metadata": {
    "slideshow": {
     "slide_type": "subslide"
    }
   },
   "source": [
    "## 3.2.1 Type I and II error example\n",
    "\n",
    "* 100 patients are tested for stroke using a new, quick test   \n",
    "* The null hypothesis is that patients are healthy.  \n",
    "* Health or stroke is then confirmed clinically, later. \n",
    "\n",
    "\n",
    "| $~$ | healthy | stroke |\n",
    "|---| --- | ---|\n",
    "| **test predicts healthy** | 88 |4 |\n",
    "| **test predicts stroke** | 2  | 6 |\n",
    "\n",
    "\n",
    "* **<font color=\"red\">Question:</font>** What is the type-I error rate?  \n",
    "\n",
    "\n",
    "* **<font color=\"red\">Question:</font>** What is the type-II error rate?   "
   ]
  },
  {
   "cell_type": "markdown",
   "metadata": {
    "slideshow": {
     "slide_type": "subslide"
    }
   },
   "source": [
    "## 3.2.1 Example of type I and II errors \n",
    "\n",
    "* 100 patients are tested for stroke using a new, quick test   \n",
    "* The null hypothesis is that patients are healthy.  \n",
    "* Health or stroke is then confirmed clinically, later. \n",
    "\n",
    "| $~$ | healthy | stroke | |\n",
    "|---| --- | ---| ---|\n",
    "| **predicts healthy** | 88 |4 | 92 |\n",
    "| **test predicts stroke** | 2  | 6 | 8 |\n",
    "| $~$ | 90 | 10 | 100 |\n",
    "\n",
    "\n",
    "* **<font color=\"green\">Answer:</font>** What is the type-I error rate?  \n",
    "$P($predict stroke$~ | ~$healthy$)=1/45$ \n",
    "\n",
    "\n",
    "* **<font color=\"green\">Answer:</font>** What is the type-II error rate?  \n",
    "$P($predict healthy$~ | ~$stroke$)=2/5$   \n",
    "\n",
    "\n",
    "* **NOTE** There are other quantities that sound similar.   \n",
    "$P($healthy$~ | ~$predict stroke$)$   \n",
    "$P($stroke$~ | ~$predict healthy$)$  \n",
    "\n",
    "\n",
    "* Frequentist $~\\sim P($Data$~ | ~$Null hypothesis$ )$  \n",
    "* Bayesian $~\\sim P($Hypotheses$~ | ~$Data$)$"
   ]
  },
  {
   "cell_type": "markdown",
   "metadata": {
    "slideshow": {
     "slide_type": "subslide"
    }
   },
   "source": [
    "## 3.2.2 Significance and p-values\n",
    "\n",
    "The p-value is the probability you get the results you found or something more extreme, given the null hypothesis is true.  \n",
    "\n",
    "** Example ** Test if a coin is fair - this is the **null** hypothesis.\n",
    "\n",
    "\n",
    "* We imagine doing one experiment with $n$ flips.\n",
    "\n",
    "\n",
    "* If coin not fair anticipate result will look unlikely from null statistics.\n",
    "\n",
    "\n",
    "* We fix ahead a probability level $\\alpha$ - the **significance** - type I error rate.  \n",
    "This the level at which we reject the null because result unlikely if null true.  \n",
    "Typically this is set at $5\\%$ or $1\\%$.\n",
    "\n",
    "\n",
    "* Do an experiment and measure the p-value. The probability \n",
    "\n",
    "** Experiment **   \n",
    "Coin flip gives 7 heads out of 8 flips. What is the p-value? Is it significant at $5\\%$?\n",
    "\n",
    "\n",
    "|heads | 0 | 1 | 2 | 3 | 4 | 5 | 6 | 7 | 8 | \n",
    "|:---  |---|---|---|---|---|---|---|---|---|\n",
    "|**prob** | 0.004 | 0.0312 | 0.1094 | 0.2188 | 0.2734 | 0.2188 | 0.1094 | 0.0312 | 0.004 |\n",
    "\n",
    "\n",
    "* As extreme is 0,1 7 or 8 heads so p-value is $2\\times(0.004+0.0312)=7\\% $.\n",
    "* Call this ** Not sigificant ** as greater that then $\\alpha=5\\%$ cut-off.\n",
    "* This is a two sided test. \n",
    "\n",
    "\n",
    "* Imagine if we were testing if the coin was biased towards heads.  \n",
    "As extreme are 7 or 8, so p-value$=3.5\\%$ which is significant at the $5\\%$ level."
   ]
  },
  {
   "cell_type": "markdown",
   "metadata": {
    "slideshow": {
     "slide_type": "subslide"
    }
   },
   "source": [
    "## 3.2.2 <font color='red'>Question</font> Significance and p-values\n",
    "\n",
    "* A nationwide school test has mean mark $\\mu=75$ with standard dev. $\\sigma=7$.\n",
    "* A particular school with 30 children has a mean mark $\\mu_s=72$ .\n",
    "\n",
    "\n",
    "* **<font color='red'>Question.</font> ** Is the school significantly different from the national average?  \n",
    "Give the p-value and compare to $5\\%$.\n",
    "\n",
    "\n",
    "\n",
    "* Hint 1: use cdf(Normal()) to calculate the area under the normal curve.\n",
    "* Hint 2: you can use invlogcdf to go from the cdf to x, when necessary.\n"
   ]
  },
  {
   "cell_type": "markdown",
   "metadata": {
    "slideshow": {
     "slide_type": "subslide"
    }
   },
   "source": [
    "## 3.2.2 <font color='green'>Answer</font> Significance and p-values\n",
    "\n",
    "* A nationwide school test has mean mark $\\mu=75$ with standard dev. $\\sigma=7$.\n",
    "* A particular school with 30 children has a mean mark $\\overline{X}=72$ .\n",
    "\n",
    "\n",
    "* **<font color='green'>Answer.</font> ** The standard error on the mean is $7/\\sqrt{30}=1.278$.\n",
    "* Null sample-mean distribution: normal with mean $\\mu_s=75$, $\\sigma_s=1.278$.\n",
    "\n",
    "* This sample mean: $z=(72-\\mu_s)/\\sigma_s=-2.35$ deviations from mean.\n",
    "* cdf(Normal(),-2.35)=0.0094 so p-value$=1.8\\%$   \n",
    "signifance at 5$\\%$ but not 1$\\%$.  \n",
    "\n",
    "\n",
    "* **NB** It's a two-sided test so $2\\times0.0094=1.8\\%$.\n"
   ]
  },
  {
   "cell_type": "code",
   "execution_count": 20,
   "metadata": {
    "slideshow": {
     "slide_type": "skip"
    }
   },
   "outputs": [],
   "source": [
    "mus,sigs=75,1.278\n",
    "x1=mus-5*sigs:0.01:mus+5*sigs\n",
    "y1=pdf.(Normal(mus,sigs),x1);\n",
    "\n",
    "# Two-sided test at 95%\n",
    "zL=invlogcdf.(Normal(),log(0.025));   xL=zL*sigs + mus\n",
    "zR=invlogcdf.(Normal(),log(1-0.025)); xR=zR*sigs + mus\n",
    "\n",
    "x2=x1[1]:0.01:xL\n",
    "y2=pdf.(Normal(mus,sigs),x2);\n",
    "\n",
    "x3=xR:0.01:x1[end]\n",
    "y3=pdf.(Normal(mus,sigs),x3);"
   ]
  },
  {
   "cell_type": "code",
   "execution_count": 6,
   "metadata": {},
   "outputs": [
    {
     "data": {
      "image/png": "[encoded data removed]",
      "text/plain": [
       "Figure(PyObject <Figure size 500x300 with 1 Axes>)"
      ]
     },
     "metadata": {},
     "output_type": "display_data"
    }
   ],
   "source": [
    "figure(figsize=(5,3))\n",
    "fill_between(x1,0,y1,color=\"lavender\"); fill_between(x2,0,y2,color=\"orange\")\n",
    "fill_between(x3,0,y3,color=\"orange\"); grid(); text(69,0.18,\"sample mean=72\")\n",
    "plot(x1,y1,\"k\",linewidth=0.7); title(\"95% significance\")\n",
    "plot([75,75],[0,maximum(y1)],\"k:\",linewidth=0.7); xlabel(\"sample mean\")\n",
    "arrow(72,0.15,0,-0.12, head_width=0.2, head_length=0.025, fc=\"k\", ec=\"k\");"
   ]
  },
  {
   "cell_type": "markdown",
   "metadata": {
    "slideshow": {
     "slide_type": "subslide"
    }
   },
   "source": [
    "## 3.2.3 Type II errors and operator curves\n",
    "\n",
    "* Decide coin fair: 100 flips there are between $40-60$ heads (inclusive).\n",
    "\n",
    "\n",
    "* The type I error rate is therefore $\\alpha=0.0352$.\n",
    "\n",
    "\n",
    "* Imagine $p=0.6$   \n",
    "**<font color='red'>Question:</font>** what is the type II error $\\beta$?\n"
   ]
  },
  {
   "cell_type": "code",
   "execution_count": 20,
   "metadata": {},
   "outputs": [
    {
     "data": {
      "text/plain": [
       "0.5379066176516065"
      ]
     },
     "execution_count": 20,
     "metadata": {},
     "output_type": "execute_result"
    }
   ],
   "source": [
    "cdf(Binomial(100, 0.6), 60)-cdf(Binomial(100, 0.6), 39)"
   ]
  },
  {
   "cell_type": "markdown",
   "metadata": {
    "slideshow": {
     "slide_type": "subslide"
    }
   },
   "source": [
    "## 3.2.3 Type II errors and operator curves\n",
    "\n",
    "* Decide coin fair: 100 flips there are between $40-60$ heads (inclusive).\n",
    "\n",
    "\n",
    "* The type I error rate is therefore $\\alpha=0.0352$.\n",
    "\n",
    "\n",
    "\n",
    "* Imagine $p=0.6$   \n",
    "**<font color='green'>Answer:</font>** $\\beta=\\sum_{k=40}^{60}$Binom$(k;n=100,p=0.6)=0.538$\n",
    "* Remember $\\beta$ is the **probability accept null given it is false**\n",
    "\n",
    "\n",
    "* At $p=0.7$ it has dropped to $\\beta=0.021$ or 2$\\%$ chance.\n",
    "\n",
    "\n",
    "* Plot $\\beta$ as a function of $p$. This is the operator curve."
   ]
  },
  {
   "cell_type": "code",
   "execution_count": 7,
   "metadata": {
    "slideshow": {
     "slide_type": "skip"
    }
   },
   "outputs": [],
   "source": [
    "x=collect(0:100)\n",
    "x1,x2=40,60\n",
    "xx=collect(x1:x2)\n",
    "\n",
    "y0=pdf.(Binomial(100,0.5),x);\n",
    "yy0=pdf.(Binomial(100,0.5),xx);\n",
    "s1=findall(x.==x1)[1];\n",
    "s2=findall(x.==x2)[1];\n",
    "\n",
    "p1,p2=0.4,0.6\n",
    "y1=pdf.(Binomial(100,p1),x)\n",
    "y2=pdf.(Binomial(100,p2),x)\n",
    "\n",
    "# type one error\n",
    "a=1-sum(y0[s1:s2])\n",
    "\n",
    "pr=collect(0.1:0.01:0.9);\n",
    "np=length(pr)\n",
    "br=zeros(np)\n",
    "for k=1:np\n",
    "    yr=pdf.(Binomial(100,pr[k]),x)\n",
    "    br[k]=sum(yr[s1:s2])\n",
    "end"
   ]
  },
  {
   "cell_type": "code",
   "execution_count": 8,
   "metadata": {},
   "outputs": [
    {
     "data": {
      "image/png": "[encoded data removed]",
      "text/plain": [
       "Figure(PyObject <Figure size 900x300 with 3 Axes>)"
      ]
     },
     "metadata": {},
     "output_type": "display_data"
    }
   ],
   "source": [
    "figure(figsize=(9,3)); tight_layout;\n",
    "subplot(131); plot(x,y0,\"k-\",x,y1,x,y2); xlabel(\"x\");\n",
    "fill_between(xx,0,yy0,color=\"y\")\n",
    "ylabel(\"Prob x heads out of 100\");   title(\"p=$p1, 0.5 and $p2\")\n",
    "subplot(132); plot(pr,br); xlabel(\"p\"); \n",
    "title(L\"$\\beta$ prob accept null when false\",fontsize=9);\n",
    "subplot(133); plot(pr,1.0 .-br); xlabel(\"p\"); \n",
    "title(L\"$1-\\beta$ prob reject null when false\",fontsize=9);"
   ]
  },
  {
   "cell_type": "markdown",
   "metadata": {
    "slideshow": {
     "slide_type": "slide"
    }
   },
   "source": [
    "# 3.3 Some common tests\n",
    "\n",
    "3.3.1 One-sample test  \n",
    "3.3.2 Two-sample test  \n",
    "3.3.3 Student's t test  \n",
    "3.3.4 Chi-square test  \n"
   ]
  },
  {
   "cell_type": "markdown",
   "metadata": {
    "slideshow": {
     "slide_type": "subslide"
    }
   },
   "source": [
    "## 3.3.1 One sample test\n",
    "\n",
    "* Consider the sample mean $\\overline{X}$ of a set $\\{X_k \\}$of $n$ random numbers.\n",
    "\n",
    "\n",
    "* Assume $n$ sufficiently large that the sample-mean distribution is normal.\n",
    "\n",
    "\n",
    "* Get an unbiased estimate of population $\\sigma$ from data ($n$ should be big for this).\n",
    "\n",
    "\n",
    "* Null hypothesis is that the sample mean is $\\mu_0$ (often $0$, as can subtract this out).\n",
    "\n",
    "\n",
    "* This is called a **z-test**: examine z-statistic $z=(\\overline{X}-\\mu_0)/(\\sigma/\\sqrt{n})$ for significance \n",
    "\n"
   ]
  },
  {
   "cell_type": "code",
   "execution_count": 9,
   "metadata": {},
   "outputs": [
    {
     "name": "stdout",
     "output_type": "stream",
     "text": [
      "X=[0.26, 0.19, 0.03, 1.86, 0.92, -0.59, 0.89, -0.51, -2.06, -0.2]\n",
      "mean(X)=0.078 and sem(X)=0.333\n",
      "z-score=0.235 and pvalue=0.814\n",
      "------------------------------\n"
     ]
    },
    {
     "data": {
      "text/plain": [
       "One sample z-test\n",
       "-----------------\n",
       "Population details:\n",
       "    parameter of interest:   Mean\n",
       "    value under h_0:         0\n",
       "    point estimate:          0.07821569756813056\n",
       "    95% confidence interval: (-0.5751, 0.7315)\n",
       "\n",
       "Test summary:\n",
       "    outcome with 95% confidence: fail to reject h_0\n",
       "    two-sided p-value:           0.8145\n",
       "\n",
       "Details:\n",
       "    number of observations:   10\n",
       "    z-statistic:              0.2346438287244101\n",
       "    population standard error: 0.3333379701197901\n"
      ]
     },
     "execution_count": 9,
     "metadata": {},
     "output_type": "execute_result"
    }
   ],
   "source": [
    "n=10\n",
    "X=randn(n) .+0.1; \n",
    "mx=mean(X); sx=std(X); semx=sx/sqrt(n); \n",
    "zscore=mx/semx; pvalue=2*cdf.(Normal(),-abs(zscore))\n",
    "println(\"X=$(round.(X;digits=2))\")\n",
    "println(\"mean(X)=$(round(mx;digits=3)) and sem(X)=$(round(semx;digits=3))\")\n",
    "println(\"z-score=$(round(zscore;digits=3)) and pvalue=$(round(pvalue;digits=3))\")\n",
    "println(\"------------------------------\")\n",
    "OneSampleZTest(X)"
   ]
  },
  {
   "cell_type": "markdown",
   "metadata": {
    "slideshow": {
     "slide_type": "subslide"
    }
   },
   "source": [
    "## 3.3.2 Two-sample test\n",
    "\n",
    "* Now consider we have two sets of number $\\{X_k\\}$ and $\\{Y_k\\}$ \n",
    "\n",
    "\n",
    "* There are $n_x$ and $n_y$ of these, the sample means are $\\overline{X}$ and $\\overline{Y}$ and the population variance esimators $\\sigma_x$ and $\\sigma_y$.\n",
    "\n",
    "\n",
    "* Are the sample means the same or different? Consider statistics of $\\overline{X}-\\overline{Y}$\n",
    "\n",
    "\n",
    "* The variance of the difference is $\\sigma_x^2/n_x+\\sigma_y^2/n_y$.\n",
    "\n",
    "\n",
    "* The test statistic is therefore $z=\\frac{(\\overline{X}-\\overline{Y})}{\\sqrt{\\sigma_x^2/n_x+\\sigma_y^2/n_y}}$ which we test for significance."
   ]
  },
  {
   "cell_type": "code",
   "execution_count": 10,
   "metadata": {},
   "outputs": [
    {
     "data": {
      "text/plain": [
       "Two sample z-test (unequal variance)\n",
       "------------------------------------\n",
       "Population details:\n",
       "    parameter of interest:   Mean difference\n",
       "    value under h_0:         0\n",
       "    point estimate:          0.01451762522670172\n",
       "    95% confidence interval: (-0.5467, 0.5758)\n",
       "\n",
       "Test summary:\n",
       "    outcome with 95% confidence: fail to reject h_0\n",
       "    two-sided p-value:           0.9596\n",
       "\n",
       "Details:\n",
       "    number of observations:   [10,15]\n",
       "    z-statistic:              0.050696480331314374\n",
       "    population standard error: 0.2863635726154035\n"
      ]
     },
     "execution_count": 10,
     "metadata": {},
     "output_type": "execute_result"
    }
   ],
   "source": [
    "nx=10; X=randn(nx) .+0.1; \n",
    "ny=15; Y=1.2*randn(ny) .+0.2;\n",
    "UnequalVarianceZTest(X,Y)"
   ]
  },
  {
   "cell_type": "markdown",
   "metadata": {
    "slideshow": {
     "slide_type": "subslide"
    }
   },
   "source": [
    "## 3.3.3 Student's t test\n",
    "\n",
    "* Developed for small sample where typically $n\\leq30$ is quoted.\n",
    "* The z-score comes from a standardised normal $z=(\\bar{X}-\\mu)/(\\sigma/\\sqrt{n})$  \n",
    "\n",
    "\n",
    "* Previously assumed that esimate $s^2_u$ for population $\\sigma^2$ is sharp\n",
    "\n",
    "\n",
    "* But $s^2_u$ is a random number too increasing uncertainty  \n",
    "  distribution $t=(\\bar{X}-\\mu)/(s_u/\\sqrt{n})$ is **not** normal  \n",
    "\n",
    "\n",
    "* Follows t-distribution (if samples normal). $Y=Y_0(1+t^2/(n-1))^{-n/2}$.  \n",
    "similar to normal, but tails fatter \n",
    "\n",
    "\n",
    "* t-tests are preformed exactly like z-tests."
   ]
  },
  {
   "cell_type": "code",
   "execution_count": 11,
   "metadata": {},
   "outputs": [
    {
     "data": {
      "image/png": "[encoded data removed]",
      "text/plain": [
       "Figure(PyObject <Figure size 500x300 with 1 Axes>)"
      ]
     },
     "metadata": {},
     "output_type": "display_data"
    },
    {
     "data": {
      "text/plain": [
       "PyObject Text(0.5, 1.0, 't-distribution with 5 degrees of freedom')"
      ]
     },
     "execution_count": 11,
     "metadata": {},
     "output_type": "execute_result"
    }
   ],
   "source": [
    "# example\n",
    "N,n=100000,6\n",
    "M=randn(N,n);\n",
    "Sm=mean(M,dims=2)\n",
    "Sv=var(M,dims=2)\n",
    "t=Sm./sqrt.(Sv/n);\n",
    "\n",
    "figure(figsize=(5,3))\n",
    "x=-5:0.1:5\n",
    "y1=pdf.(Normal(),x)\n",
    "y2=pdf.(TDist(n-1),x)\n",
    "plt.hist(t,400,normed=5,color=\"lightgreen\");\n",
    "plot(x,y1,\"k:\",x,y2,\"k-\"); xlabel(\"t\")\n",
    "axis([-6,6,0,0.45]); title(\"t-distribution with $(n-1) degrees of freedom\")"
   ]
  },
  {
   "cell_type": "markdown",
   "metadata": {
    "slideshow": {
     "slide_type": "subslide"
    }
   },
   "source": [
    "## 3.3.4 Chi-square test\n",
    "\n",
    "* This test is used for seeing if a distribution of numbers is as expected.\n",
    "\n",
    "\n",
    "* Let $a_k$ where $k=1\\cdots n$ be the measured frequency and $b_k$ that expected.\n",
    "\n",
    "\n",
    "* The test statistics is $\\chi^2=\\sum_{k=1}^n\\frac{(a_k-b_k)^2}{b_k}$.\n",
    "\n",
    "\n",
    "* It has a sampling distribution is $Y(\\chi^2)=\\frac{1}{2^{\\nu/2}\\Gamma(\\nu/2)}(\\chi^2)^{(\\nu-2)/2}e^{-\\chi^2/2}$  \n",
    "where $\\nu=n-1$. This is a $\\chi^2$ distribution with $n-1$ degrees of freedom.\n",
    "\n",
    "\n",
    "* **<font color='red'>Question:</font>** A six-sided die is rolled 120 times with frequencies:\n",
    "\n",
    "| 1  | 2   | 3   | 4   | 5   | 6   |\n",
    "| ---| --- | --- | --- | --- | --- |\n",
    "|   17 | 14    | 19    | 15    | 21    |  34   |  \n",
    "\n",
    "* Is the die a fair one? Test at $95\\%$ and $99\\%$ and give the p-value. "
   ]
  },
  {
   "cell_type": "code",
   "execution_count": 230,
   "metadata": {
    "scrolled": true
   },
   "outputs": [
    {
     "name": "stdout",
     "output_type": "stream",
     "text": [
      "13.4, "
     ]
    },
    {
     "data": {
      "text/plain": [
       "11.070497693516351"
      ]
     },
     "execution_count": 230,
     "metadata": {},
     "output_type": "execute_result"
    }
   ],
   "source": [
    "b = [17, 14, 19, 15, 21, 34]\n",
    "a = ones(6)*20\n",
    "chisq = sum((a.-b).^2 ./a)\n",
    "print(chisq, \", \")\n",
    "1-cdf(Chisq(5), chisq)\n",
    "\n",
    "# we reject H_0 at 1% L.O.S but accept at 5%.\n",
    "\n",
    "# the p-value tells you the probability of being more extreme than this value given it is distributed fairly/uniformly.\n",
    "\n",
    "invlogcdf(Chisq(5), log(0.99))\n",
    "invlogcdf(Chisq(5), log(0.95))"
   ]
  },
  {
   "cell_type": "code",
   "execution_count": 224,
   "metadata": {},
   "outputs": [
    {
     "data": {
      "text/plain": [
       "10.632463511720477"
      ]
     },
     "execution_count": 224,
     "metadata": {},
     "output_type": "execute_result"
    }
   ],
   "source": [
    "val = zeros(6)\n",
    "for i in 1:6\n",
    "    val[i] = (b[i]-20)^2/b[i]\n",
    "end\n",
    "chisqq = sum(val)"
   ]
  },
  {
   "cell_type": "markdown",
   "metadata": {
    "collapsed": true,
    "slideshow": {
     "slide_type": "subslide"
    }
   },
   "source": [
    "## 3.3.4 Chi-square test\n",
    "\n",
    "\n",
    "* The test statistics is $\\chi^2=\\sum_{k=1}^n\\frac{(a_k-b_k)^2}{b_k}$.\n",
    "\n",
    "\n",
    "* It has a sampling distribution is $Y(\\chi^2)=\\frac{1}{2^{\\nu/2}\\Gamma(\\nu/2)}(\\chi^2)^{(\\nu-2)/2}e^{-\\chi^2/2}$   \n",
    "where $\\nu=n-1$. This is a $\\chi^2$ distribution with $n-1$ degrees of freedom.\n",
    "\n",
    "\n",
    "* **<font color='green'>Answer:</font>** A six-sided die is rolled 120 times with frequencies:\n",
    "\n",
    "| 1  | 2   | 3   | 4   | 5   | 6   |\n",
    "| ---| --- | --- | --- | --- | --- |\n",
    "|   17 | 14    | 19    | 15    | 21    |  34   |  \n",
    "\n",
    "* $\\chi^2=3^2/20+6^2/20+1^2/20+5^2/20+1^2/20+14^2/20=13.4$      \n",
    "and $\\nu=6-1=5$."
   ]
  },
  {
   "cell_type": "code",
   "execution_count": 12,
   "metadata": {
    "slideshow": {
     "slide_type": "-"
    }
   },
   "outputs": [
    {
     "name": "stdout",
     "output_type": "stream",
     "text": [
      "chi2=13.4 pvalue=0.0199 xx95=11.0705 xx99=15.0863\n"
     ]
    }
   ],
   "source": [
    "a=[17.0, 14.0, 19.0, 15.0, 21.0, 34.0];\n",
    "b=[20.0,20.0,20.0,20.0,20.0,20.0];\n",
    "chi2=sum((a-b).^2 ./b)\n",
    "pvalue=1-cdf.(Chisq(5),chi2)\n",
    "xx95=invlogcdf.(Chisq(5),log(0.95))\n",
    "xx99=invlogcdf.(Chisq(5),log(0.99))\n",
    "\n",
    "xx1=collect(0.01:0.01:20); y1=pdf.(Chisq(5),xx1);\n",
    "xx2=collect(xx95:0.01:xx1[end]); y2=pdf.(Chisq(5),xx2);\n",
    "xx3=collect(xx99:0.01:xx1[end]); y3=pdf.(Chisq(5),xx3);\n",
    "\n",
    "println(\"chi2=$chi2 pvalue=$(round(pvalue;digits=4)) xx95=$(round(xx95;digits=4)) xx99=$(round(xx99;digits=4))\")"
   ]
  },
  {
   "cell_type": "code",
   "execution_count": 13,
   "metadata": {
    "slideshow": {
     "slide_type": "-"
    }
   },
   "outputs": [
    {
     "data": {
      "image/png": "[encoded data removed]",
      "text/plain": [
       "Figure(PyObject <Figure size 400x300 with 1 Axes>)"
      ]
     },
     "metadata": {},
     "output_type": "display_data"
    }
   ],
   "source": [
    "figure(figsize=(4,3))\n",
    "plot(xx1,y1,\"k-\"); xlabel(\"chi2\"); plot(chi2,0,\"k*\")\n",
    "fill_between(xx2,0,y2,color=\"lightgreen\"); text(12.5,0.027,\"95%\",color=\"green\")\n",
    "fill_between(xx3,0,y3,color=\"r\"); text(16.5,0.012,\"99%\",color=\"r\")\n",
    "grid(\"on\")"
   ]
  },
  {
   "cell_type": "code",
   "execution_count": 14,
   "metadata": {
    "slideshow": {
     "slide_type": "-"
    }
   },
   "outputs": [
    {
     "data": {
      "text/plain": [
       "Pearson's Chi-square Test\n",
       "-------------------------\n",
       "Population details:\n",
       "    parameter of interest:   Multinomial Probabilities\n",
       "    value under h_0:         [0.166667, 0.166667, 0.166667, 0.166667, 0.166667, 0.166667]\n",
       "    point estimate:          [0.141667, 0.116667, 0.158333, 0.125, 0.175, 0.283333]\n",
       "    95% confidence interval: Tuple{Float64,Float64}[(0.0583, 0.2321), (0.0333, 0.2071), (0.075, 0.2487), (0.0417, 0.2154), (0.0917, 0.2654), (0.2, 0.3737)]\n",
       "\n",
       "Test summary:\n",
       "    outcome with 95% confidence: reject h_0\n",
       "    one-sided p-value:           0.0199\n",
       "\n",
       "Details:\n",
       "    Sample size:        120\n",
       "    statistic:          13.399999999999995\n",
       "    degrees of freedom: 5\n",
       "    residuals:          [-0.67082, -1.34164, -0.223607, -1.11803, 0.223607, 3.1305]\n",
       "    std. residuals:     [-0.734847, -1.46969, -0.244949, -1.22474, 0.244949, 3.42929]\n"
      ]
     },
     "execution_count": 14,
     "metadata": {},
     "output_type": "execute_result"
    }
   ],
   "source": [
    "# can also use one of the HypothesisTests commands...\n",
    "\n",
    "aInt=Int.(a);\n",
    "ChisqTest(aInt)"
   ]
  },
  {
   "cell_type": "markdown",
   "metadata": {
    "slideshow": {
     "slide_type": "slide"
    }
   },
   "source": [
    "###### 3.4 Summary and additional questions\n",
    "\n",
    "# 3.4 Summary and additional questions\n",
    "\n",
    "\n",
    "## Day 3 Frequentist approach\n",
    "\n",
    "3.1 Interval estimation      \n",
    "3.2 Hypothesis testing  \n",
    "3.3 Additional topics  \n",
    "3.4 Summary and homework questions \n",
    "\n",
    "---\n",
    "\n",
    "## Questions\n",
    "\n",
    "Make sure you have understood and done all the questions in the lectures.\n",
    "\n",
    "The questions below are to be emailed in for marking by 12noon Thursday 26th November 2020    \n",
    "**NB** there will also be questions from the Day 4 lectures to be handed in on the 26th November as well.\n",
    "\n",
    "**Q3.4.1** Spotting fake financial data  \n",
    "**Q3.4.2** One-sided and two-sided test differences   \n",
    "**Q3.4.3** Limit of Student's t-distribution."
   ]
  },
  {
   "cell_type": "markdown",
   "metadata": {
    "collapsed": true,
    "slideshow": {
     "slide_type": "subslide"
    }
   },
   "source": [
    "## <font color='red'>Q3.4.1</font> Spotting fake data\n",
    "\n",
    "* The first non-zero digits of numbers in many real-world data sets do not follow a uniform distribution.\n",
    "* This observation is called Benford's law, where $P(d)=\\log_{10}(1+1/d)$ for $d=1\\cdots9$\n",
    "* When financial data is naively faked, a uniform random number generator is often used. \n",
    "* Download the following csv file from the Nasdaq archive:  \n",
    "old.nasdaq.com/screening/companies-by-industry.aspx?exchange=NASDAQ&render=download\n",
    "* The third column is the current stock prices. The data has some entries that are \"n/a\" which you need to clean up.\n",
    "\n",
    "* **Part (a)** For a random  sample of 45 stocks, plot the distribution of the first digits of the stock prices.\n",
    "\n",
    "* **Part (b)** Use the Chi-square test to check if the distribution is significantly different from a uniform distribution and from Benford's law. Give the p-value for these two tests.\n",
    "\n",
    "* **Part (c)** Increase the sample to 450. Comment on what happens to the significance test in respect to Benford's law."
   ]
  },
  {
   "cell_type": "code",
   "execution_count": 4,
   "metadata": {
    "scrolled": true
   },
   "outputs": [
    {
     "name": "stdout",
     "output_type": "stream",
     "text": [
      "The p-statistic for the Chi-Squared test for the null-hypothesis: 'The data is Uniformly distributed' is p = 6"
     ]
    },
    {
     "data": {
      "image/png": "[encoded data removed]",
      "text/plain": [
       "Figure(PyObject <Figure size 640x480 with 1 Axes>)"
      ]
     },
     "metadata": {},
     "output_type": "display_data"
    },
    {
     "name": "stdout",
     "output_type": "stream",
     "text": [
      ".3494301838495915e-6\n",
      " \n",
      "The p-statistic for the Chi-Squared test for the null-hypothesis: 'The data is distributed according to Benfords Law' is p = 0.7602203453880295"
     ]
    },
    {
     "data": {
      "text/plain": [
       "0.000517446393924148"
      ]
     },
     "execution_count": 4,
     "metadata": {},
     "output_type": "execute_result"
    }
   ],
   "source": [
    "C = readdlm(\"companylist.csv\", ',');\n",
    "\n",
    "#sorting data and finding first digit\n",
    "\n",
    "Dig = filter(x->typeof(x) == Float64 || typeof(x) == Int64, C[:,3]) # gets rid of all \"n/a\" values\n",
    "Ford = zeros(length(Dig))\n",
    "\n",
    "for i in 1:length(Dig)\n",
    "    Entry = Dig[i]\n",
    "    decdigits = split(\"$Entry\", \"\") # converts to array of strings\n",
    "    digits = filter(x -> x !=\".\", decdigits) # gets rid of decimal point if exists\n",
    "    Ben = findfirst(x->x !=\"0\", digits) # finds index of first non-zero digit\n",
    "    Ford[i] = parse(Int64, digits[Ben]) # converts back to number\n",
    "end\n",
    "\n",
    "#plotting distribtion versus expectation according to Benford's Law\n",
    "\n",
    "test = sample(Ford, 45)\n",
    "plt.hist(test, 9, density =1, histtype = \"step\")\n",
    "set = collect(1:9)\n",
    "plot(set, log10.(1 .+1 ./set))\n",
    "\n",
    "\n",
    "#ChiSquared Calculation\n",
    "\n",
    "test = sample(Ford, 45)\n",
    "d = [count(x->x==i,test) for i in set]\n",
    "\n",
    "b = 45*log10.(1 .+1 ./set) # Expected values by Benford's Law\n",
    "\n",
    "ChiSq_U = sum((d.-5).^2)/5 # The expectation for a Uniform distribution would be (1/9)*45 = 5\n",
    "ChiSq_B = sum(((d.-b).^2)./b)\n",
    "\n",
    "pU = 1-cdf(Chisq(9-1), ChiSq_U)\n",
    "pB = 1-cdf(Chisq(8), ChiSq_B)\n",
    "\n",
    "print(\"The p-statistic for the Chi-Squared test for the null-hypothesis: 'The data is Uniformly distributed' is p = \", pU, \"\\n \\n\")\n",
    "print(\"The p-statistic for the Chi-Squared test for the null-hypothesis: 'The data is distributed according to Benfords Law' is p = \", pB)\n",
    "\n",
    "TEST = sample(Ford, 450)\n",
    "# plt.hist(test, 9, density =1, histtype = \"step\")\n",
    "# plot(set, log10.(1 .+1 ./set))\n",
    "D = [count(x->x==i,TEST) for i in set]\n",
    "B = 450*log10.(1 .+1 ./set)# Expected values by Benford's Law\n",
    "ChiSq_BL = sum(((B.-D).^2)./B)\n",
    "pBL = 1-cdf(Chisq(8), ChiSq_BL)\n",
    "\n",
    "# p-values are consistently lower for a larger sample size."
   ]
  },
  {
   "cell_type": "code",
   "execution_count": 8,
   "metadata": {
    "scrolled": true
   },
   "outputs": [
    {
     "data": {
      "text/plain": [
       "0.0003242986250909796"
      ]
     },
     "execution_count": 8,
     "metadata": {},
     "output_type": "execute_result"
    }
   ],
   "source": []
  },
  {
   "cell_type": "code",
   "execution_count": 16,
   "metadata": {},
   "outputs": [
    {
     "data": {
      "text/plain": [
       "5×2 Array{Float64,2}:\n",
       " 0.37568   0.393246   \n",
       " 0.916503  0.000839864\n",
       " 0.1685    2.33499e-7 \n",
       " 0.770799  0.168959   \n",
       " 0.369827  2.79527e-5 "
      ]
     },
     "execution_count": 16,
     "metadata": {},
     "output_type": "execute_result"
    }
   ],
   "source": [
    "pB = zeros(5)\n",
    "pBL = zeros(5)\n",
    "\n",
    "for j in 1:5\n",
    "    test = sample(Ford, 45)\n",
    "    TEST = sample(Ford, 450)\n",
    "    d = [count(x->x==i,test) for i in set]\n",
    "    D = [count(x->x==i,TEST) for i in set]\n",
    "    b = 45*log10.(1 .+1 ./set)\n",
    "    B = 450*log10.(1 .+1 ./set)\n",
    "    ChiSq_B, ChiSq_BL = sum(((b.-d).^2)./b), sum(((B.-D).^2)./B)\n",
    "    pB[j], pBL[j] = 1-cdf(Chisq(8), ChiSq_B), 1-cdf(Chisq(8), ChiSq_BL)\n",
    "end\n",
    "hcat(pB, pBL)"
   ]
  },
  {
   "cell_type": "markdown",
   "metadata": {},
   "source": [
    "The array above compares small and large sample size $p$-values. We can see without much analysis that the $p$-values for a sample size of 450 are frequently less than the $\\alpha = 1%$ level of signficance. This may be surprising because we might expect that with a larger sample size, the distribution gets closer to what Benford's Law predicts.\n",
    "\n",
    "However a feature of the $\\chi ^2$ test is that it's potency in determining the goodness of fit reduces for larger sample sizes. This is owing to the fact that the magnitude of $\\chi ^2$ scales with the number of data points, i.e the numerator in the summation is not squared."
   ]
  },
  {
   "cell_type": "markdown",
   "metadata": {
    "collapsed": true,
    "slideshow": {
     "slide_type": "subslide"
    }
   },
   "source": [
    "\n",
    "## <font color='red'>Q3.4.2</font> One-sided and two-sided test differences.\n",
    "\n",
    "* Refer back to the question in section 3.2.2 on the nationwide school test.\n",
    "\n",
    "\n",
    "* A nationwide school test has mean mark $\\mu=75$ with standard dev. $\\sigma=7$.\n",
    "* A particular school with 30 children has a mean mark $\\overline{X}=72$ .\n",
    "\n",
    "\n",
    "* Test the data for the question:   \n",
    "Is the school underpreforming?   \n",
    "What is the p-value and compare it to $5\\%$ or $1\\%$ significances.\n"
   ]
  },
  {
   "cell_type": "markdown",
   "metadata": {},
   "source": [
    "If we took a large number of samples, size $n=30$, we would expect the distribution to follow a $ N(75, \\frac{7^2}{30})$ distribution. And so the corresponding $p$-value is calculated as `cdf(Normal(75, 7/sqrt(30)), 72) = 0.00945 (2sf)`. So $p = 0.945 \\% $ and we reject the null-hypothesis ($H_0$: The school is performing averagely) at the 5% and 1% level of significance. NB: We do not compare to 0.5% and 2.5% respectively since this is now a one-tailed test."
   ]
  },
  {
   "cell_type": "code",
   "execution_count": 19,
   "metadata": {},
   "outputs": [
    {
     "data": {
      "text/plain": [
       "0.009452920389165925"
      ]
     },
     "execution_count": 19,
     "metadata": {},
     "output_type": "execute_result"
    }
   ],
   "source": [
    "cdf(Normal(75, 7/sqrt(30)), 72)"
   ]
  },
  {
   "cell_type": "markdown",
   "metadata": {
    "collapsed": true,
    "slideshow": {
     "slide_type": "subslide"
    }
   },
   "source": [
    "## <font color='red'>Q3.4.3</font> Limit of Student's t-distribution\n",
    "\n",
    "* **Part (a)**  Student's t-distribution is \n",
    "\n",
    "\n",
    "$\\hspace{0.8cm}$ $f(t)=\\frac{1}{\\sqrt{\\nu\\pi}}\\frac{\\Gamma\\left(\\frac{\\nu+1}{2}\\right)}{\\Gamma\\left(\\frac{\\nu}{2}\\right)}\\frac{1}{\\left(1+t^2/\\nu\\right)^{(\\nu+1)/2}}$\n",
    "\n",
    "\n",
    "$\\hspace{8mm}$where $\\nu=n-1$ is the number of degrees of freedom. \n",
    "\n",
    "*  Demontrate that in the limit of large $n$ this distribution tends to a standard normal.\n",
    "\n",
    "\n",
    "\n",
    "* **Part(b)** Show that for large $\\nu$ the leading order correction to the variance is $\\sigma^2\\simeq1+2/\\nu$ and therefore larger than that of the standard normal.\n",
    "\n"
   ]
  },
  {
   "cell_type": "markdown",
   "metadata": {},
   "source": [
    "$\\nu$"
   ]
  },
  {
   "cell_type": "markdown",
   "metadata": {},
   "source": [
    "# Question 3.4.3\n",
    "\n",
    "### Part (a) \n",
    "\n",
    "Our task is to show that $$f(t) = \\lim_{\\nu\\to\\infty} \\frac{1}{\\sqrt{\\nu\\pi}}\\frac{\\Gamma\\left(\\frac{\\nu+1}{2}\\right)}{\\Gamma\\left(\\frac{\\nu}{2}\\right)}\\frac{1}{\\left(1+t^2/\\nu\\right)^{(\\nu+1)/2}} =\\frac{1}{\\sqrt{2\\pi}}\\exp\\left(\\frac{-t^2}{2}\\right)$$\n",
    "Or more succintly, the Student's t-distrribution tends to the standard Normal as the degrees of freedom tend to $\\infty$.\n",
    "\n",
    "The following limits will be used:\n",
    "\n",
    "* **Definiton of Exponential**: $ \\lim_{x\\to\\infty} \\left(1+ \\frac{y}{x}\\right)^x = e^y$\n",
    "* **Stirling's Approximation**: $ \\lim_{x\\to\\infty} \\Gamma(x+1) = \\sqrt{2 \\pi x}x^x e^{-x}$\n",
    "\n",
    "Re-writing $f(t)$:\n",
    "\n",
    "$$ f(t) = \\frac{1}{\\sqrt{\\pi}}\\lim_{\\nu\\to\\infty} a(\\nu, t) \\lim_{\\nu\\to\\infty} b(\\nu, t),$$\n",
    "is valid provided both limits exist and we define\n",
    "$$\n",
    "\\begin{align}\n",
    "a(\\nu, t) &= \\frac{1}{\\sqrt{\\nu}}\\frac{\\Gamma\\left(\\frac{\\nu+1}{2}\\right)}{\\Gamma\\left(\\frac{\\nu}{2}\\right)} \\\\\n",
    "b(\\nu, t) &= \\frac{1}{\\left(1+t^2/\\nu\\right)^{(\\nu+1)/2}}\n",
    "\\end{align}\n",
    "$$\n",
    "\n",
    "We re-write the first limit as: \n",
    "$$\n",
    "\\begin{align}\n",
    "\\lim_{\\nu\\to\\infty} a(\\nu, t) &= \\frac{\\Gamma\\left(1+\\frac{\\nu-1}{2}\\right)}{\\nu^{1/2} \\Gamma\\left(1+\\frac{\\nu -2}{2}\\right)} \\tag{1}\\\\\n",
    "&= \\frac{\\left(2 \\pi \\left(\\frac{\\nu-1}{2} \\right)\\right)^{\\frac{1}{2}} \\left( \\frac{\\nu-1}{2} \\right)^{\\frac{\\nu-1}{2}} e^{-\\left(\\frac{\\nu-1}{2} \\right)}}{\\nu^{1/2}\\left(2 \\pi \\left(\\frac{\\nu-2}{2} \\right)\\right)^{\\frac{1}{2}} \\left( \\frac{\\nu-2}{2} \\right)^{\\frac{\\nu-2}{2}} e^{-\\left(\\frac{\\nu-2}{2} \\right)}} \\tag{2}\\\\\n",
    "&= \\left( \\frac{\\nu-1}{\\nu-2}\\right)^{\\frac{1}{2}}\\left( \\frac{\\nu-1}{\\nu-2}\\right)^{\\frac{\\nu-2}{2}} \\left( \\frac{\\nu-1}{2}\\right)^{\\frac{1}{2}}\\nu^{-\\frac{1}{2}}e^{-\\frac{1}{2}} \\tag{3}\n",
    "\\end{align}\n",
    "$$\n",
    "where Equation $(2)$ follows from $(1)$ using the Stirling Approximation.\n",
    "\n",
    "\n",
    "Note that \n",
    "$$\n",
    "\\begin{align}\n",
    "\\lim_{\\nu\\to\\infty} \\left( \\frac{\\nu-1}{\\nu-2}\\right)^{\\frac{\\nu-2}{2}} &= \\lim_{\\nu\\to\\infty}\\left(1+\\frac{1}{\\nu -2}\\right)^{\\frac{\\nu -2}{2}}\\\\\n",
    "&= \\left(\\lim_{\\nu\\to\\infty} \\left(1+\\frac{1}{\\nu -2}\\right)^{\\nu-2}\\right)^\\frac{1}{2} \\\\ \n",
    "&= e^{\\frac{1}{2}}\n",
    "\\end{align}\n",
    "$$ using the Exponential Limit.\n",
    "\n",
    "Before we continue in evaluating $a(\\nu, t)$, note that many of the terms in line $(3)$ simplify easily: \n",
    "\n",
    "* We now know from the above workings that the $e^{-\\frac{1}{2}}$ term will cancel with the second term.\n",
    "* $\\lim_{\\nu\\to\\infty} \\left( \\frac{\\nu-1}{\\nu-2}\\right)^{\\frac{1}{2}} = 1$\n",
    "* $\\lim_{\\nu\\to\\infty}(v-1)^{\\frac{1}{2}}v^{-\\frac{1}{2}} =1$\n",
    "\n",
    "And so we find that the only term that survives is $(\\frac{1}{2})^{\\frac{1}{2}}= \\frac{1}{\\sqrt{2}}$.\n",
    "We have shown that $\\lim_{\\nu\\to\\infty} a(\\nu, t) = \\frac{1}{\\sqrt{2}}$ and so is finite. All that remains is to find the limit as $\\nu \\rightarrow \\infty$ for $b(\\nu, t)$.\n",
    "\n",
    "This is far simpler since $\\lim_{\\nu\\to\\infty} \\left(1+t^2/\\nu\\right)^{(\\nu+1)/2} =  \\left( \\lim_{\\nu\\to\\infty}\\left(1+t^2/\\nu\\right)^{\\nu}\\cdot \\lim_{\\nu\\to\\infty}\\left(1+t^2/\\nu\\right) \\right)^{ 1/2}$ (Again this is only valid if the limits are finite.) $\\newline$ Considering the terms inside the outer bracket, the first can be evaluated by substituting $x=t^2$ from the Limit Definition of the Exponential to give $e^{t^2}$. The second term clearly tends to $1$.\n",
    "\n",
    "It follows that:\n",
    "\n",
    "$$\n",
    "\\begin{align}\n",
    "\\lim_{\\nu\\to\\infty} b(\\nu, t) &= \\left(\\frac{1}{e^{t^2}\\cdot 1}\\right)^{ 1/2} \\\\\n",
    "&= e^{-\\frac{t^2}{2}}\n",
    "\\end{align}\n",
    "$$.\n",
    "\n",
    "This means since both $a(\\nu, t)$ and $b(\\nu, t)$ are finite when we take $\\nu \\rightarrow \\infty$. So our deduction is valid and $\\lim_{\\nu\\to\\infty} f(t) = \\frac{1}{\\sqrt{\\pi}} \\cdot \\frac{1}{\\sqrt{2}} \\cdot e^{-\\frac{t^2}{2}}$, i.e. in the limit $\\nu \\rightarrow \\infty$, the Student's T-Distribution tends to the standard Normal $\\blacksquare$.\n",
    "\n",
    "### Part (b) \n",
    "\n",
    "\n",
    "\n",
    "$$\\sigma^2 = \\langle t^2 \\rangle- \\langle t \\rangle ^2$$\n",
    "\n",
    "The integrand for the first moment is $t(1+t^2/\\nu)^{-(\\nu+1)/2}$, which is an odd function and so $\\langle t \\rangle =0$.\n",
    "\n",
    "The second moment is given by: $$\\langle t^2 \\rangle= K I_1,$$\n",
    "\n",
    "where\n",
    "$$\n",
    "\\begin{align}\n",
    "K &= \\frac{\\Gamma\\left(\\frac{\\nu+1}{2}\\right)}{\\sqrt{\\nu\\pi}\\Gamma\\left(\\frac{\\nu}{2}\\right)}\\\\\n",
    "I_1 &= \\int_{-\\infty}^{\\infty}t^2(1+t^2/\\nu)^{-(\\nu+1)/2}dt\n",
    "\\end{align}\n",
    "$$\n",
    "\n",
    "$I_1$ looks difficult to compute but a key observation (as is always the case for these problems) is that $\\int_{-\\infty}^{\\infty}f(t)dt = 1$, where $f(t)$ is the pdf given in the question. It turns out that with a good choice of $u$ and $y'$ when using integration by parts means we can get an algebraic equation for $I_1$, making use of our knowledge about the pdf. Two obvious choices of $u$ would be $t$ or $t^2$. Choosing $t$ means we could get something similar to the pdf in the resulting integral (which turns out to be the case), whilst $t^2$ means we probably won't get something like the pdf in the integral and even so, another by parts would be required afterwards.\n",
    "\n",
    "NB: The integrand we consider is even so we could collapse one half of the integration range and multiply by $2$ but it turns out to be nicer to keep it as it is.\n",
    "\n",
    "Let \n",
    "$$\n",
    "\\begin{align}\n",
    "u &= t \\\\\n",
    "y' &= t(1+t^2/ \\nu)^{-(\\nu +1)/2}\\\\\n",
    "\\implies y &= -\\frac{\\nu}{\\nu -1}\\left( 1+ \\frac{t^2}{\\nu} \\right)^{-(\\nu-1)/2}\n",
    "\\end{align}\n",
    "$$\n",
    "Therefore, using integration by parts:\n",
    "$$\n",
    "\\begin{align}\n",
    "I_1 = \\frac{\\nu t}{1-\\nu}\\left(1+t^2/\\nu \\right)^{-(\\nu-1)/2}\\big|_{-\\infty}^{\\infty}-\\frac{\\nu}{1-\\nu} \\underbrace{\\int_{-\\infty}^{\\infty}(1+t^2/\\nu)^{-(\\nu-1)/2}dt}_{I_2}\n",
    "\\end{align}\n",
    "$$\n",
    "\n",
    "The first term in the previous line is an odd function and so evaluating points equal distance from 0 will cancel to give 0 so \n",
    "\n",
    "$$ I_1 = \\frac{\\nu}{\\nu-1}I_2 \\tag{4}$$\n",
    "\n",
    "The resulting integral, $I_2$ isn't quite proprtional to the pdf as we hoped but it is similar in form.\n",
    "\n",
    "In fact \n",
    "$$\n",
    "\\begin{align}\n",
    "I_2 &= \\int_{-\\infty}^{\\infty}(1+t^2/\\nu)^{-(\\nu+1)/2}\\left(1+t^2/\\nu \\right)dt \\\\\n",
    "&= \\int_{-\\infty}^{\\infty}(1+t^2/\\nu)^{-(\\nu+1)/2} + \\frac{1}{\\nu}\\int_{-\\infty}^{\\infty}t^2(1+t^2/\\nu)^{-(\\nu+1)/2}\\\\\n",
    "&= \\frac{1}{K}+\\frac{I_1}{\\nu} \\tag{5}\n",
    "\\end{align}\n",
    "$$\n",
    "\n",
    "So we can combine (4) and (5) to find that $$I_1 = \\frac{\\nu}{K(\\nu -2)}$$\n",
    "\n",
    "Recall $\\langle t^2 \\rangle = KI_1$ and so \n",
    "$$\n",
    "\\begin{align}\n",
    "\\langle t^2 \\rangle &= \\frac{\\nu}{\\nu -2}\\\\\n",
    "&= \\left( 1-2/\\nu\\right)^{-1} \\tag{6}\\\\\n",
    "&\\approx 1 +2/\\nu \\tag{7}\n",
    "\\end{align}\n",
    "$$\n",
    "NB: (7) flows from the (6) by taking a Binomial expansion, which is valid since $|\\lim_{\\nu\\to\\infty} (-2/\\nu)|< 1$ $\\blacksquare$."
   ]
  },
  {
   "cell_type": "code",
   "execution_count": 3,
   "metadata": {},
   "outputs": [
    {
     "ename": "UndefVarError",
     "evalue": "UndefVarError: t not defined",
     "output_type": "error",
     "traceback": [
      "UndefVarError: t not defined",
      "",
      "Stacktrace:",
      " [1] top-level scope at In[3]:1"
     ]
    }
   ],
   "source": [
    "exp(0.5*(-t^2))"
   ]
  },
  {
   "cell_type": "code",
   "execution_count": 2,
   "metadata": {},
   "outputs": [
    {
     "ename": "LoadError",
     "evalue": "syntax: extra token \"contrib\" after end of expression",
     "output_type": "error",
     "traceback": [
      "syntax: extra token \"contrib\" after end of expression",
      ""
     ]
    }
   ],
   "source": [
    "jupyter contrib nbextension install --user"
   ]
  },
  {
   "cell_type": "code",
   "execution_count": 54,
   "metadata": {},
   "outputs": [
    {
     "data": {
      "text/plain": [
       "\"10203040\""
      ]
     },
     "execution_count": 54,
     "metadata": {},
     "output_type": "execute_result"
    }
   ],
   "source": [
    "# Testing Arena\n",
    "\n",
    "b = 10203040\n",
    "a = string(b)\n",
    "# Useful code to keep\n",
    "# d = Dict([(i, count(x->x==i,test)) for i in set])\n",
    "# findall(x -> x==1, test)"
   ]
  },
  {
   "cell_type": "code",
   "execution_count": 78,
   "metadata": {},
   "outputs": [
    {
     "data": {
      "text/plain": [
       "15-element Array{SubString{String},1}:\n",
       " \"0\"\n",
       " \"0\"\n",
       " \"0\"\n",
       " \"6\"\n",
       " \"0\"\n",
       " \"2\"\n",
       " \"0\"\n",
       " \"0\"\n",
       " \"3\"\n",
       " \"4\"\n",
       " \"5\"\n",
       " \"6\"\n",
       " \"7\"\n",
       " \"8\"\n",
       " \"9\""
      ]
     },
     "execution_count": 78,
     "metadata": {},
     "output_type": "execute_result"
    }
   ],
   "source": [
    "x = 0.00602003456789\n",
    "decdigits = split(\"$x\",\"\")\n",
    "digits = filter(x -> x !=\".\", decdigits)"
   ]
  },
  {
   "cell_type": "code",
   "execution_count": 82,
   "metadata": {},
   "outputs": [
    {
     "data": {
      "text/plain": [
       "4"
      ]
     },
     "execution_count": 82,
     "metadata": {},
     "output_type": "execute_result"
    }
   ],
   "source": [
    "Ben = findfirst(x->x !=\"0\",digits)"
   ]
  },
  {
   "cell_type": "code",
   "execution_count": 79,
   "metadata": {},
   "outputs": [
    {
     "data": {
      "text/plain": [
       "0.00602003456789"
      ]
     },
     "execution_count": 79,
     "metadata": {},
     "output_type": "execute_result"
    }
   ],
   "source": [
    "x = 0.00602003456789"
   ]
  },
  {
   "cell_type": "code",
   "execution_count": 84,
   "metadata": {},
   "outputs": [
    {
     "ename": "MethodError",
     "evalue": "MethodError: no method matching Int64(::SubString{String})\nClosest candidates are:\n  Int64(!Matched::Union{Bool, Int32, Int64, UInt32, UInt64, UInt8, Int128, Int16, Int8, UInt128, UInt16}) at boot.jl:717\n  Int64(!Matched::Ptr) at boot.jl:727\n  Int64(!Matched::Float32) at float.jl:700\n  ...",
     "output_type": "error",
     "traceback": [
      "MethodError: no method matching Int64(::SubString{String})\nClosest candidates are:\n  Int64(!Matched::Union{Bool, Int32, Int64, UInt32, UInt64, UInt8, Int128, Int16, Int8, UInt128, UInt16}) at boot.jl:717\n  Int64(!Matched::Ptr) at boot.jl:727\n  Int64(!Matched::Float32) at float.jl:700\n  ...",
      "",
      "Stacktrace:",
      " [1] top-level scope at In[84]:1"
     ]
    }
   ],
   "source": [
    "Int64(digits[Ben])"
   ]
  },
  {
   "cell_type": "code",
   "execution_count": 86,
   "metadata": {},
   "outputs": [
    {
     "data": {
      "text/plain": [
       "\"6\""
      ]
     },
     "execution_count": 86,
     "metadata": {},
     "output_type": "execute_result"
    }
   ],
   "source": [
    "digits[4]"
   ]
  },
  {
   "cell_type": "code",
   "execution_count": 87,
   "metadata": {},
   "outputs": [
    {
     "data": {
      "text/plain": [
       "6"
      ]
     },
     "execution_count": 87,
     "metadata": {},
     "output_type": "execute_result"
    }
   ],
   "source": [
    "parse(Int64, digits[4])"
   ]
  },
  {
   "cell_type": "code",
   "execution_count": null,
   "metadata": {},
   "outputs": [],
   "source": []
  }
 ],
 "metadata": {
  "celltoolbar": "Slideshow",
  "kernelspec": {
   "display_name": "Julia 1.0.5",
   "language": "julia",
   "name": "julia-1.0"
  },
  "language_info": {
   "file_extension": ".jl",
   "mimetype": "application/julia",
   "name": "julia",
   "version": "1.0.5"
  },
  "rise": {
   "enable_chalkboard": true,
   "scroll": true
  }
 },
 "nbformat": 4,
 "nbformat_minor": 2
}
