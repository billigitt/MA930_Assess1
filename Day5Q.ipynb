{
 "cells": [
  {
   "cell_type": "code",
   "execution_count": 2,
   "metadata": {
    "slideshow": {
     "slide_type": "skip"
    }
   },
   "outputs": [],
   "source": [
    "using PyPlot\n",
    "using Statistics\n",
    "using Distributions"
   ]
  },
  {
   "cell_type": "markdown",
   "metadata": {
    "slideshow": {
     "slide_type": "slide"
    }
   },
   "source": [
    "# Day 5 Basic time-series analysis\n",
    "\n",
    "5.1 Curve-fitting     \n",
    "5.2 Stochastic time-series models    \n",
    "5.3 Summary and additional questions    "
   ]
  },
  {
   "cell_type": "markdown",
   "metadata": {
    "slideshow": {
     "slide_type": "subslide"
    }
   },
   "source": [
    "## Recap of last week\n",
    "\n",
    "**Frequentist** approach  \n",
    "* Consider all possible results of an experiment  \n",
    "* Ask how likely a result as extreme as that seen was  \n",
    "* P-values, significance and confidence intervals \n",
    "* Probability of data given hypothesis  \n",
    "\n",
    "\n",
    "**Bayesian** approach\n",
    "* Update prior views using data  \n",
    "* Resulting posterior can be used as future prior  \n",
    "* Direct evaluation of probability of hypothesis given data  \n",
    "* Credible intervals etc more naturally defined.  \n"
   ]
  },
  {
   "cell_type": "markdown",
   "metadata": {
    "slideshow": {
     "slide_type": "slide"
    }
   },
   "source": [
    "# 5.1 Curve-fitting \n",
    "\n",
    "5.1.1 Preprocessing data     \n",
    "5.1.2 Linear regression    \n",
    "5.1.3 Polynomial regression  \n",
    "   "
   ]
  },
  {
   "cell_type": "markdown",
   "metadata": {
    "slideshow": {
     "slide_type": "subslide"
    }
   },
   "source": [
    "## 5.1.1 Preprocessing data\n",
    "\n",
    "* Identify any \"bad\" entries in the data: NaN or similar\n",
    "\n",
    "\n",
    "* Cut-out or replace with principled replacement  \n",
    "for example: mean of neighbouring points, linear extrapolation, etc\n",
    "\n",
    "\n",
    "* Plot out the data and take a good look  \n",
    "do this before applying any statistical tests\n",
    "\n",
    "\n",
    "* Smooth data and remove outliers if necessary   "
   ]
  },
  {
   "cell_type": "markdown",
   "metadata": {
    "slideshow": {
     "slide_type": "subslide"
    }
   },
   "source": [
    "## 5.1.1 Preprocessing: smoothing\n",
    "\n",
    "* Many different approaches to smoothing a data set $x_k$\n",
    "\n",
    "\n",
    "* Boxcar smoothing $x'_k=\\frac{1}{2n+1}\\sum_{j=-n}^{n}x_{k+j}$\n",
    "\n",
    "\n",
    "* Weighted smoothing $x'_k=\\sum_{j=-n}^{n}w_jx_{k+j}$ where $\\sum w_j=1$.\n",
    "\n",
    "\n",
    "* Iterative $x'_k=x_k(1-2\\alpha)+\\alpha(x_{k-1}+x_{k+1})$ where $\\alpha$ is small.  \n",
    "Repeat many times as required: effectively diffusive smoothing.\n",
    "\n",
    "\n",
    "* Remove smoothed data from original data to get at high-frequency components."
   ]
  },
  {
   "cell_type": "markdown",
   "metadata": {
    "slideshow": {
     "slide_type": "subslide"
    }
   },
   "source": [
    "## 5.1.2 Linear regression\n",
    "\n",
    "* Consider first trivial case of fitting a straight line.\n",
    "\n",
    "\n",
    "* Imagine $N$ data points data $\\{t_n \\}$ and $\\{x_n \\}$\n",
    "\n",
    "\n",
    "* Want to find the best fit $f_n=\\kappa_1t_n+\\kappa_0$ in the least-squares sense.\n",
    "\n",
    "\n",
    "* Define an error function $E=\\frac{1}{2N}\\sum_{n=1}^N(f_n-x_n)^2$\n",
    "\n",
    "\n",
    "* **<font color='red'>Question:</font>** What $\\kappa_0$ and $\\kappa_1$ minimise $E$?\n",
    "\n",
    "\n",
    "* **HINT** Introduce quantities like $\\langle xt \\rangle=\\frac{1}{N}\\sum_{n=1}^Nx_nt_n$ etc"
   ]
  },
  {
   "cell_type": "markdown",
   "metadata": {
    "slideshow": {
     "slide_type": "subslide"
    }
   },
   "source": [
    "## 5.1.2 Linear regression\n",
    "\n",
    "* Error function is $E=\\frac{1}{2N}\\sum_{n=1}^N(f_n-x_n)^2$\n",
    "\n",
    "\n",
    "* Fit function is $~f_n=\\kappa_1t_n+\\kappa_0$   \n",
    "\n",
    "\n",
    "* **<font color='green'>Answer:</font>** Minimise $E$ to find $\\kappa_0$ and $\\kappa_1$.\n",
    "\n",
    "\n",
    "* Minimise $\\frac{\\partial E}{\\partial \\kappa_i}=0$ implies $0=\\frac{1}{N}\\sum_{n=1}^N(f_n-x_n)\\frac{\\partial f_n}{\\partial \\kappa_i}$\n",
    "\n",
    "\n",
    "* Yielding two equations \n",
    "\n",
    "$\\hspace{0.8cm}\\begin{eqnarray}\n",
    "\\kappa_0+\\kappa_1\\langle  t \\rangle&=&\\langle x \\rangle \\\\\n",
    "\\kappa_0\\langle t \\rangle+\\kappa_1\\langle t^2 \\rangle&=&\\langle xt \\rangle\n",
    "\\end{eqnarray}$\n",
    "\n",
    "\n",
    "* Straightforward to invert this to give...\n",
    "\n",
    "\n",
    "$\\hspace{0.8cm}\\kappa_0=\\frac{\\langle t^2 \\rangle\\langle x \\rangle-\\langle xt \\rangle \\langle t\\rangle}{\\langle t^2 \\rangle-\\langle t \\rangle ^2}~$ and $~\\kappa_1=\\frac{\\langle xt \\rangle-\\langle x \\rangle \\langle t\\rangle}{\\langle t^2 \\rangle-\\langle t \\rangle ^2}$\n",
    "\n",
    "\n",
    "* **Note:** gradient and correlation-coefficient relation $\\kappa_1\\sigma_t=\\varrho\\sigma_x$"
   ]
  },
  {
   "cell_type": "markdown",
   "metadata": {
    "slideshow": {
     "slide_type": "subslide"
    }
   },
   "source": [
    "## 5.1.3 Polynomial regression$\\newcommand{\\Ex}[1]{\\langle #1 \\rangle}$\n",
    "\n",
    "* Straightforward to generalise to an $M$th order polynomial.\n",
    "\n",
    "\n",
    "* Now $f_n=\\sum_{m=0}^M\\kappa_mt^m_n$ with error still $E=\\frac{1}{2N}\\sum_{n=1}^N(f_n-x_n)^2$.  \n",
    "\n",
    "\n",
    "* Minimising $E$ with respect to $\\kappa_{m'}$ gives  \n",
    "\n",
    "$\\hspace{0.8cm} \\kappa_0\\langle t^{m'}\\rangle + \\kappa_1\\langle t^{m'+1}\\rangle+\\cdots+\\kappa_M\\langle t^{m'+M}\\rangle=\\langle xt^{m'} \\rangle$\n",
    "\n",
    "* **<font color='red'>Question:</font>** Confirm this!  \n",
    "\n",
    "\n",
    "\n",
    "* There are $(M+1)$ of these equalities, so that\n",
    "\n",
    "$\n",
    "\\hspace{0.8cm}\\left( \n",
    "\\begin{matrix}\n",
    "  1        & \\Ex{t}      & \\Ex{t^2} & \\cdots & \\Ex{t^M}\\\\\n",
    "  \\Ex{t}   & \\Ex{t^2}    & \\cdots   &        & \\Ex{t^{M+1}}  \\\\\n",
    "  \\Ex{t^2} & \\cdots      &          &        & \\Ex{t^{M+2}} \\\\\n",
    "  \\vdots    &             &          &        & \\vdots\\\\\n",
    " \\Ex{t^M}  & \\Ex{t^{M+1}}& \\Ex{t^{M+2}}         &   \\cdots     &\\Ex{t^{2M}} \n",
    " \\end{matrix}\\right) \n",
    " \\left(\n",
    "\\begin{matrix}\n",
    " \\kappa_0\\\\ \n",
    " \\kappa_1\\\\\n",
    "  \\kappa_2\\\\\n",
    "  \\vdots \\\\\n",
    " \\kappa_M\\\\\n",
    "\\end{matrix}\n",
    "\\right)=\\left(\n",
    "\\begin{matrix}\n",
    " \\Ex{x}\\\\ \n",
    " \\Ex{xt}\\\\\n",
    "  \\Ex{xt^2}\\\\\n",
    "  \\vdots \\\\\n",
    " \\Ex{xt^M}\\\\\n",
    "\\end{matrix}\n",
    "\\right)$\n",
    "\n",
    "\n",
    "* Which can be solved numerically by multiplying by the inverse matrix."
   ]
  },
  {
   "cell_type": "code",
   "execution_count": 11,
   "metadata": {},
   "outputs": [
    {
     "data": {
      "text/plain": [
       "1×4 Array{Int64,2}:\n",
       " 1  4  9  16"
      ]
     },
     "execution_count": 11,
     "metadata": {},
     "output_type": "execute_result"
    }
   ],
   "source": [
    "a = [1 2 3 4]\n",
    "a.^2"
   ]
  },
  {
   "cell_type": "markdown",
   "metadata": {
    "slideshow": {
     "slide_type": "subslide"
    }
   },
   "source": [
    "## 5.1.3 <font color='red'>Question:</font> Code a polynomial fit\n",
    "\n",
    "\n",
    "Write functions that accept $N$ data pairs $(t_n,x_n)$ and return:  \n",
    "* The $(M+1)$ polynomial fit parameters $\\{\\kappa_m\\}$ for an $M$th-order polynomial.  \n",
    "* The error of the fit.  \n",
    "* The best fit line.\n",
    "\n",
    "\n",
    "Then...\n",
    "\n",
    "\n",
    "* Generate a first set of training data: 10 points from a cubic polynomial with zero-mean independent gaussian noise added to each point.  \n",
    "\n",
    "* Generate a seond set of test data: 10 points from the same cubic polynomial with different zero-mean independent gaussian noise added to each point.  \n",
    "\n",
    "* Find least-squared fits of the training data to polynomials of orders $M=1,~\\cdots,8$ and plot the error as a function of polynomial order.  \n",
    "\n",
    "* Using the fit parameters generated from the training data, find the error for the test data and plot as a function of polynomial order for the test set on the same graph and compare.  "
   ]
  },
  {
   "cell_type": "code",
   "execution_count": 115,
   "metadata": {
    "scrolled": true
   },
   "outputs": [
    {
     "data": {
      "text/plain": [
       "mycubic (generic function with 1 method)"
      ]
     },
     "execution_count": 115,
     "metadata": {},
     "output_type": "execute_result"
    }
   ],
   "source": [
    "mycubic(T) = 4.2*T^3-1.6*T^2 -T+0.6"
   ]
  },
  {
   "cell_type": "code",
   "execution_count": 116,
   "metadata": {},
   "outputs": [],
   "source": [
    "rand0 = rand(20);\n",
    "rand1 =  rand(Normal(0, 0.05),10);\n",
    "rand2 =  rand(Normal(0, 0.05),10);"
   ]
  },
  {
   "cell_type": "code",
   "execution_count": 120,
   "metadata": {},
   "outputs": [
    {
     "data": {
      "text/plain": [
       "polyfit (generic function with 1 method)"
      ]
     },
     "execution_count": 120,
     "metadata": {},
     "output_type": "execute_result"
    }
   ],
   "source": [
    "function polyfit(M)\n",
    "\n",
    "dt = rand0\n",
    "N = 10\n",
    "traint = dt[1:N]\n",
    "testt = dt[11:20]\n",
    "\n",
    "# M = 3 # order polynomial fitted\n",
    "\n",
    "trainx = mycubic.(traint) .+ rand1\n",
    "testx = mycubic.(testt) .+ rand2\n",
    "\n",
    "matrix = ones(M+1,M+1)\n",
    "vector = zeros(M+1)\n",
    "\n",
    "for i in 1:M+1\n",
    "    for j in 1:M+1\n",
    "        matrix[i,j] = (1/N)*sum(traint.^(i+j-2))\n",
    "    end\n",
    "end\n",
    "    \n",
    "for i in 1:M+1\n",
    "    vector[i] = (1/N)*sum(trainx.*traint.^(i-1))\n",
    "end\n",
    "\n",
    "K = inv(matrix)*vector\n",
    "    return traint, trainx, K, testt, testx\n",
    "end"
   ]
  },
  {
   "cell_type": "code",
   "execution_count": 123,
   "metadata": {},
   "outputs": [
    {
     "data": {
      "image/png": "[encoded data removed]",
      "text/plain": [
       "Figure(PyObject <Figure size 640x480 with 1 Axes>)"
      ]
     },
     "metadata": {},
     "output_type": "display_data"
    },
    {
     "name": "stdout",
     "output_type": "stream",
     "text": [
      "[0.609879, -0.805398, -2.37581, 4.7521]"
     ]
    },
    {
     "data": {
      "text/plain": [
       "1-element Array{PyCall.PyObject,1}:\n",
       " PyObject <matplotlib.lines.Line2D object at 0x7f1ce69360a0>"
      ]
     },
     "execution_count": 123,
     "metadata": {},
     "output_type": "execute_result"
    }
   ],
   "source": [
    "mse(X, Y) = (1/length(X))*sum((X.-Y).^2)\n",
    "\n",
    "TRAINT, TRAINX, K, TESTT, TESTX = polyfit(3)\n",
    "\n",
    "matrix_out = hcat(ones(10), TRAINT, TRAINT.^2, TRAINT.^3)\n",
    "matrix_out2 = hcat(ones(10), TRAINT, TRAINT.^2, TRAINT.^3)\n",
    "print(K)\n",
    "\n",
    "fittrainx = matrix_out*K\n",
    "# fittestx = matrix_out2*K\n",
    "mse(fittrainx, TRAINX)\n",
    "# scatter(TRAINT, fittrainx, color = \"r\")\n",
    "scatter(TRAINT, TRAINX, color = \"k\")\n",
    "# scatter(TESTT, fittestx)\n",
    "t = 0:0.01:1\n",
    "plot(t, mycubic.(t))\n",
    "plot(t, K[1].+K[2]*t.+K[3]*t.^2 .+K[4]*t.^3)\n"
   ]
  },
  {
   "cell_type": "code",
   "execution_count": 126,
   "metadata": {},
   "outputs": [
    {
     "data": {
      "image/png": "[encoded data removed]",
      "text/plain": [
       "Figure(PyObject <Figure size 640x480 with 1 Axes>)"
      ]
     },
     "metadata": {},
     "output_type": "display_data"
    },
    {
     "data": {
      "text/plain": [
       "PyObject <matplotlib.legend.Legend object at 0x7f1ce68d00a0>"
      ]
     },
     "execution_count": 126,
     "metadata": {},
     "output_type": "execute_result"
    }
   ],
   "source": [
    "errors = zeros(8)\n",
    "errortests = zeros(8)\n",
    "for M in 1:8\n",
    "    TRAINT, TRAINX, K, TESTT, TESTX = polyfit(M)\n",
    "    matrix_out = ones(10,1)\n",
    "    matrix_out2 = ones(10,1)\n",
    "    i = 1\n",
    "    while i < M+1\n",
    "        matrix_out = hcat(matrix_out, TRAINT.^i)\n",
    "        matrix_out2 = hcat(matrix_out2, TESTT.^i)\n",
    "        i+=1\n",
    "    end\n",
    "    fittrainx = matrix_out*K\n",
    "    fittestt = matrix_out2*K\n",
    "    errors[M] = mse(fittrainx, TRAINX)\n",
    "    errortests[M] = mse(fittestt, TESTX)\n",
    "end\n",
    "\n",
    "Ms = collect(1:8)\n",
    "\n",
    "plot(Ms, errors, \"r\", label = \"Training Error\")\n",
    "\n",
    "semilogy(Ms, errortests, label = \"Testing Error\")\n",
    "\n",
    "ylabel(\"Error values\")\n",
    "xlabel(\"Polynomial Order\")\n",
    "\n",
    "legend()\n"
   ]
  },
  {
   "cell_type": "code",
   "execution_count": 73,
   "metadata": {},
   "outputs": [
    {
     "data": {
      "text/plain": [
       "5×2 Array{Float64,2}:\n",
       " 1.0  1.0\n",
       " 1.0  1.0\n",
       " 1.0  1.0\n",
       " 1.0  1.0\n",
       " 1.0  1.0"
      ]
     },
     "execution_count": 73,
     "metadata": {},
     "output_type": "execute_result"
    }
   ],
   "source": [
    "reshape(ones(10,1), (5,2))"
   ]
  },
  {
   "cell_type": "code",
   "execution_count": 23,
   "metadata": {},
   "outputs": [
    {
     "name": "stdout",
     "output_type": "stream",
     "text": [
      "[1 2 3; 4 5 6]"
     ]
    },
    {
     "data": {
      "text/plain": [
       "2×3 Array{Int64,2}:\n",
       " 3  2  1\n",
       " 6  5  4"
      ]
     },
     "execution_count": 23,
     "metadata": {},
     "output_type": "execute_result"
    }
   ],
   "source": [
    "\n",
    "# Defining a rectangular matrix of size (2, 3) \n",
    "B = [1 2 3; 4 5 6]     \n",
    "print(B)\n",
    "# Flipping the matrix vertically \n",
    "reverse(B, dims = 2) "
   ]
  },
  {
   "cell_type": "code",
   "execution_count": 32,
   "metadata": {},
   "outputs": [
    {
     "name": "stdout",
     "output_type": "stream",
     "text": [
      "[1.0 0.524607 0.347399 0.252158; 0.524607 0.347399 0.252158 0.190854; 0.347399 0.252158 0.190854 0.147814; 0.252158 0.190854 0.147814 0.116169]"
     ]
    },
    {
     "data": {
      "text/plain": [
       "(4,)"
      ]
     },
     "execution_count": 32,
     "metadata": {},
     "output_type": "execute_result"
    }
   ],
   "source": [
    "size(polyfit(3))"
   ]
  },
  {
   "cell_type": "markdown",
   "metadata": {
    "slideshow": {
     "slide_type": "subslide"
    }
   },
   "source": [
    "## 5.1.3 <font color='green'>Answer:</font> Code a polynomial fit"
   ]
  },
  {
   "cell_type": "code",
   "execution_count": 2,
   "metadata": {},
   "outputs": [
    {
     "data": {
      "text/plain": [
       "MyError (generic function with 1 method)"
      ]
     },
     "execution_count": 2,
     "metadata": {},
     "output_type": "execute_result"
    }
   ],
   "source": [
    "# Calculates the mean error using the data x and fit f\n",
    "function MyError(x,f)\n",
    "    N=length(x)\n",
    "    E=(0.5/N)*sum( (x.-f).^2)\n",
    "    return E\n",
    "end"
   ]
  },
  {
   "cell_type": "code",
   "execution_count": 3,
   "metadata": {},
   "outputs": [
    {
     "data": {
      "text/plain": [
       "MyPolynomial (generic function with 1 method)"
      ]
     },
     "execution_count": 3,
     "metadata": {},
     "output_type": "execute_result"
    }
   ],
   "source": [
    "# Returns a polynomial using the coefficient vector K\n",
    "function MyPolynomial(t,K)\n",
    "   \n",
    "    M=length(K)-1\n",
    "    N=length(t)\n",
    "    f=zeros(N)\n",
    "    for k=0:M\n",
    "       f=f .+(t.^k)*K[k+1] \n",
    "    end\n",
    "    return(f)\n",
    "\n",
    "end"
   ]
  },
  {
   "cell_type": "code",
   "execution_count": 4,
   "metadata": {},
   "outputs": [
    {
     "data": {
      "text/plain": [
       "MyPolyFit (generic function with 1 method)"
      ]
     },
     "execution_count": 4,
     "metadata": {},
     "output_type": "execute_result"
    }
   ],
   "source": [
    "# Fits the polynomial constants. \n",
    "# Inputs: t and x (the data) M is the polynomial order\n",
    "function MyPolyFit(t,x,M)\n",
    "    \n",
    "    A=zeros(M+1,M+1)\n",
    "    B=zeros(M+1)\n",
    "    \n",
    "    for i=0:M\n",
    "        B[i+1]=mean(x.*t.^i)\n",
    "        for j=0:M\n",
    "            A[i+1,j+1]=mean(t.^(i+j))\n",
    "        end\n",
    "    end\n",
    "    K=inv(A)*B\n",
    "    \n",
    "    f=MyPolynomial(t,K)\n",
    "    E=MyError(x,f)\n",
    "    \n",
    "    return K,E\n",
    "end"
   ]
  },
  {
   "cell_type": "code",
   "execution_count": 5,
   "metadata": {},
   "outputs": [],
   "source": [
    "# create the function for fitting. Use a cubic\n",
    "MyFunction(t)=(t .-0).*(t .-0.5).*(t .-0.8)\n",
    "\n",
    "# Two noisy sample\n",
    "N=10\n",
    "t=collect(range(0,stop=1,length=N))\n",
    "x=MyFunction.(t) .+ 0.01*randn(N); # training\n",
    "y=MyFunction.(t) .+ 0.01*randn(N); # test\n",
    "\n",
    "# highly sampled version\n",
    "tt=collect(0:0.01:1)\n",
    "xx=MyFunction(tt);\n",
    "nxx=length(xx);"
   ]
  },
  {
   "cell_type": "code",
   "execution_count": 6,
   "metadata": {},
   "outputs": [],
   "source": [
    "# do fits from order 1 to Mmax\n",
    "Mmax=8\n",
    "Kx=zeros(Mmax,Mmax+1) # matrix for the fit parameters for each polynomial order\n",
    "Ex=zeros(Mmax) # errors for the training\n",
    "Ey=zeros(Mmax) # errors for the test set \n",
    "fx=zeros(Mmax,N) # fitted data for the training\n",
    "ffx=zeros(Mmax,nxx)\n",
    "for M=1:Mmax\n",
    "    Kx[M,1:M+1],Ex[M]=MyPolyFit(t,x,M);\n",
    "    fx[M,:]=MyPolynomial(t,Kx[M,1:M+1])\n",
    "    ffx[M,:]=MyPolynomial(tt,Kx[M,1:M+1])\n",
    "    Ey[M]=MyError(y,fx[M,:])\n",
    "end\n",
    "M=collect(1:Mmax);"
   ]
  },
  {
   "cell_type": "code",
   "execution_count": 7,
   "metadata": {},
   "outputs": [
    {
     "data": {
      "image/png": "[encoded data removed]",
      "text/plain": [
       "Figure(PyObject <Figure size 1000x300 with 3 Axes>)"
      ]
     },
     "metadata": {},
     "output_type": "display_data"
    }
   ],
   "source": [
    "figure(figsize=(10,3))\n",
    "\n",
    "subplot(131)\n",
    "plot(tt,xx,\"k-\",label=\"true\")\n",
    "plot(t,x,\"+b\",label=\"training\")\n",
    "plot(t,y,\"*r\",label=\"test\") \n",
    "plot(tt,ffx[3,:],\"b:\",label=\"training fit 3rd order\")\n",
    "legend()\n",
    "\n",
    "subplot(132)\n",
    "plot(M,Ex,\"bo:\",label=\"training\")\n",
    "plot(M,Ey,\"ro:\",label=\"test\")\n",
    "xlabel(\"polynomial order M\")\n",
    "ylabel(\"error \"); legend()\n",
    "\n",
    "subplot(133)\n",
    "plot(tt,xx,\"k-\",label=\"true\")\n",
    "plot(t,x,\"+b\",label=\"training\")\n",
    "plot(t,y,\"*r\",label=\"test\")\n",
    "plot(tt,ffx[8,:],\"b:\",label=\"training fit 8th order\")\n",
    "legend()\n",
    "tight_layout()"
   ]
  },
  {
   "cell_type": "markdown",
   "metadata": {
    "slideshow": {
     "slide_type": "slide"
    }
   },
   "source": [
    "# 5.2 Stochastic time-series models\n",
    "\n",
    "5.2.1  Auto-regressive models   \n",
    "5.2.2  First-order model    \n",
    "5.2.3  Autocovariance  "
   ]
  },
  {
   "cell_type": "markdown",
   "metadata": {
    "slideshow": {
     "slide_type": "subslide"
    }
   },
   "source": [
    "## 5.2.1 Auto-regressive models$\\newcommand{\\Ex}[1]{\\langle #1 \\rangle}$\n",
    "\n",
    "* Widespread use to model stochastic data  \n",
    "\n",
    "\n",
    "* Model is discrete, writing current state as function of previous ones  \n",
    "\n",
    "\n",
    "* An order-p model \n",
    "\n",
    "$\\hspace{0.8cm}$ $X_t=c+\\sum_{i=1}^p\\phi_iX_{t-i}+\\epsilon_t$\n",
    "\n",
    "* where $\\epsilon_t$ are uncorrelated, normally distributed random numbers with   \n",
    "\n",
    "\n",
    "$\\hspace{0.8cm}$ $\\Ex{\\epsilon}=0~$ and $~\\Ex{\\epsilon^2}=\\sigma_\\epsilon^2$.\n",
    "\n",
    "\n",
    "\n",
    "\n",
    "* Here we will examine an order-1 model \n",
    "\n",
    "$\\hspace{0.8cm}$ $X_t=c+\\phi X_{t-1}+\\epsilon_t$\n",
    "\n"
   ]
  },
  {
   "cell_type": "markdown",
   "metadata": {
    "slideshow": {
     "slide_type": "subslide"
    }
   },
   "source": [
    "## 5.2.2 First-order auto-regressive model  \n",
    "\n",
    "* First-order model, where we assume $|\\phi|<1$ \n",
    "\n",
    "$\\hspace{0.8cm}$ $X_t=c+\\phi X_{t-1}+\\epsilon_t~~$ where $~~\\Ex{\\epsilon}=0~$ and $~\\Ex{\\epsilon^2}=\\sigma_\\epsilon^2$.\n",
    "\n",
    "\n",
    "**<font color='red'>Questions:</font>**\n",
    "\n",
    "\n",
    "* What is the mean of $\\Ex{X}$\n",
    "\n",
    "* What is Var$(X)$?\n",
    "\n",
    "* What is the general solution, if the process has always be ongoing?\n",
    "\n"
   ]
  },
  {
   "cell_type": "markdown",
   "metadata": {
    "slideshow": {
     "slide_type": "subslide"
    }
   },
   "source": [
    "## 5.2.2 First-order auto-regressive model  \n",
    "\n",
    "* First-order model, where we assume $|\\phi|<1$  \n",
    "* We assume the process has always been active, and is in the steady state.\n",
    "\n",
    "$\\hspace{0.8cm}$ $X_t=c+\\phi X_{t-1}+\\epsilon_t~~$ where $~~\\Ex{\\epsilon}=0~$ and $~\\Ex{\\epsilon^2}=\\sigma_\\epsilon^2$.\n",
    "\n",
    "\n",
    "**<font color='red'>Questions:</font>**\n",
    "\n",
    "\n",
    "* What is the mean of $\\Ex{X}$\n",
    "\n",
    "* What is Var$(X)$?\n",
    "\n",
    "* What is the general solution?\n",
    "\n",
    "**<font color='green'>Answers:</font>**\n",
    "\n",
    "* For the mean $\\Ex{X_t}=c+\\phi \\Ex{X_{t-1}}$ so   \n",
    "\n",
    "\n",
    "$\\hspace{0.8cm}\\Ex{X}=\\frac{c}{1-\\phi}$    \n",
    "\n",
    "\n",
    "* Useful to introduce $x_t=X_t-\\Ex{X_t}$. Note that  \n",
    "\n",
    "$\\hspace{0.8cm} x_t=\\phi x_{t-1}+\\epsilon_t$. \n",
    "\n",
    "* Var$(X)=\\Ex{x_t^2}=\\phi^2\\Ex{x_{t-1}^2}+\\Ex{\\epsilon_t^2}$ which gives  \n",
    "\n",
    "$\\hspace{0.8cm}$ Var$(x)=\\frac{\\sigma_\\epsilon^2}{(1-\\phi^2)}$\n",
    "\n",
    "\n",
    "* General solution is \n",
    "\n",
    "$\\hspace{0.8cm} X_t=\\frac{c}{1-\\phi}+\\sum_{k=0}^\\infty\\phi^k\\epsilon_{t-k}$"
   ]
  },
  {
   "cell_type": "markdown",
   "metadata": {
    "slideshow": {
     "slide_type": "subslide"
    }
   },
   "source": [
    "## 5.2.3 Autocovariance\n",
    "\n",
    "* First-order autoregressive model, in steady state.  \n",
    "\n",
    "$\\hspace{0.8cm}$ $X_t=c+\\phi X_{t-1}+\\epsilon_t~~$ where $~~\\Ex{\\epsilon}=0~$ and $~\\Ex{\\epsilon^2}=\\sigma_\\epsilon^2$.\n",
    "\n",
    "* Derived mean, variance and general solution\n",
    "\n",
    "$\\hspace{0.8cm}\\Ex{X}=\\frac{c}{1-\\phi}~$, Var$(x)=\\frac{\\sigma_\\epsilon^2}{(1-\\phi^2)}~$ and $~X_t=\\frac{c}{1-\\phi}+\\sum_{k=0}^\\infty\\phi^k\\epsilon_{t-k}$\n",
    "\n",
    "\n",
    "* Examine temporal structure given by autocovariance: \n",
    "\n",
    "$\\hspace{0.8cm} \\Ex{(X_{t+n}-\\Ex{X})(X_t-\\Ex{X})}=\\sum_{j=0}^\\infty\\sum_{k=0}^\\infty\\phi^{j+k}\\Ex{\\epsilon_{t+n-j}\\epsilon_{t-k}}$\n",
    "\n",
    "\n",
    "* **<font color='red'>Question:</font>** Assume $n>0$. What is the autocovariance?"
   ]
  },
  {
   "cell_type": "markdown",
   "metadata": {
    "slideshow": {
     "slide_type": "subslide"
    }
   },
   "source": [
    "## 5.2.3 Autocovariance\n",
    "\n",
    "* First-order autoregressive model, in steady state.  \n",
    "\n",
    "$\\hspace{0.8cm}$ $X_t=c+\\phi X_{t-1}+\\epsilon_t~~$ where $~~\\Ex{\\epsilon}=0~$ and $~\\Ex{\\epsilon^2}=\\sigma_\\epsilon^2$.\n",
    "\n",
    "* Derived mean, variance and general solution\n",
    "\n",
    "$\\hspace{0.8cm}\\Ex{X}=\\frac{c}{1-\\phi}~$, Var$(x)=\\frac{\\sigma_\\epsilon^2}{(1-\\phi^2)}~$ and $~X_t=\\frac{c}{1-\\phi}+\\sum_{k=0}^\\infty\\phi^k\\epsilon_{t-k}$\n",
    "\n",
    "\n",
    "* Examine temporal structure given by autocovariance: \n",
    "\n",
    "$\\hspace{0.8cm} \\Ex{(X_{t+n}-\\Ex{X})(X_t-\\Ex{X})}=\\sum_{j=0}^\\infty\\sum_{k=0}^\\infty\\phi^{j+k}\\Ex{\\epsilon_{t+n-j}\\epsilon_{t-k}}$\n",
    "\n",
    "\n",
    "* **<font color='green'>Answer:</font>** \n",
    "\n",
    "\n",
    "* $\\Ex{\\epsilon_{t+n-j}\\epsilon_{t-k}}=\\sigma_\\epsilon^2$ when $j=n+k$, and is zero otherwise.\n",
    "\n",
    "\n",
    "* Because $n>0$ we have $\\Ex{(X_{t+n}-\\Ex{X})(X_t-\\Ex{X})}=\\phi^n\\sum_{k=0}^\\infty\\phi^{2k}\\sigma_\\epsilon^2$\n",
    "\n",
    "\n",
    "* So the autocovariance is \n",
    "\n",
    "\n",
    "$\\hspace{0.8cm} \\Ex{(X_{t+n}-\\Ex{X})(X_t-\\Ex{X})}=\\phi^{|n|}\\frac{\\sigma_\\epsilon^2}{(1-\\phi^2)}$\n",
    "\n",
    "\n",
    "* NB: Check the result for $n<0$ yourself.\n"
   ]
  },
  {
   "cell_type": "markdown",
   "metadata": {
    "slideshow": {
     "slide_type": "slide"
    }
   },
   "source": [
    "# 5.3 Summary and additional questions\n",
    "\n",
    "## Day 5 Basic time-series analysis\n",
    "\n",
    "5.1 Curve-fitting     \n",
    "5.2 Stochastic time-series models    \n",
    "5.3 Summary and additional questions    \n",
    "\n",
    "\n",
    "---\n",
    "\n",
    "## Questions\n",
    "\n",
    "Make sure you have understood and done all the questions in the lectures.\n",
    "\n",
    "Answers to the questions below are to be emailed in for marking by 12noon Thursday 3rd December 2020.    \n",
    "\n",
    "**Q5.3.1** Analysis of exo-planet data  \n",
    "**Q5.3.2** Autocovariance of an autoregressive model  \n",
    "**Q5.3.3** Distribution of sample means for an autoregressive process  \n"
   ]
  },
  {
   "cell_type": "markdown",
   "metadata": {
    "collapsed": true,
    "slideshow": {
     "slide_type": "subslide"
    }
   },
   "source": [
    "## <font color='red'>Q5.3.1</font> Analysis of exo-planet data\n",
    "\n",
    "* Download the **exoplanet-data.txt** file from the course website.  \n",
    "* The x-axis is in days, the y-axis is raw light intensity from the star.  \n",
    "* The dips are caused by a planet passing in front of the star.  \n",
    "* It can be assumed that this is a single-planet system.\n",
    "\n",
    "\n",
    "* Some cleaning of the data will be required.\n",
    "\n",
    "\n",
    "* Part (a) Estimate the orbital period of the planet, with a figure showing method.\n",
    "\n",
    "\n",
    "* Part (b) Assume the flux from the star is proportional to the area of the disc it presents to the telescope.  \n",
    "Estimate the ratios of the planetary and solar radii. \n",
    "Provide a figure showing method.\n",
    "\n",
    "\n",
    "* Part (c) Estimate the transit time in days, with a figure showing method.  \n",
    "\n",
    "**NOTE** There is no need to provide ranges for data.\n"
   ]
  },
  {
   "cell_type": "markdown",
   "metadata": {
    "collapsed": true,
    "slideshow": {
     "slide_type": "subslide"
    }
   },
   "source": [
    "\n",
    "## <font color='red'>Q5.3.2</font> Autocovariance of an autoregressive model\n",
    "\n",
    "* Simulate a first order autoregressive model with your parameter choice  \n",
    "for $c$, $\\phi$ and $\\sigma_\\epsilon$ (but with $|\\phi|<1$).\n",
    "\n",
    "\n",
    "* Run the simulation for $5000$ steps and demonstrate that $\\Ex{X}$ and Var$(X)$ are comparable to theory.\n",
    "\n",
    "\n",
    "\n",
    "* Extract the autocovariance from the data.  \n",
    "Provide a plot comparing it to the theoretical prediction.\n"
   ]
  },
  {
   "cell_type": "markdown",
   "metadata": {
    "collapsed": true,
    "slideshow": {
     "slide_type": "subslide"
    }
   },
   "source": [
    "## <font color='red'>Q5.3.3</font> Distribution of sample means for an autoregressive process  \n",
    "\n",
    "*  Simulate a first-order autoregressive process for $100,000$ steps with $c=0$, $\\phi=0.9$ and $\\sigma_\\epsilon=2$.  \n",
    "\n",
    "\n",
    "*  Calculate the distribution of sample means in two ways. For the first way, take $10,000$ random samples of $10$ adjacent data points. For the second way, take $10,000$ random samples of $10$ data points each picked from any step of your autoregressive process.  \n",
    "\n",
    "\n",
    "* Plot out the histograms of the sample means for these two cases and examine if they agree with what would be expected from a naive application of the central-limit theorem (you can assume knowledge of the true mean and variance used to generate the autoregressive process). Comment on the differences if any between the two ways of calculating the sample means.  \n"
   ]
  },
  {
   "cell_type": "code",
   "execution_count": null,
   "metadata": {},
   "outputs": [],
   "source": []
  }
 ],
 "metadata": {
  "celltoolbar": "Slideshow",
  "kernelspec": {
   "display_name": "Julia 1.0.5",
   "language": "julia",
   "name": "julia-1.0"
  },
  "language_info": {
   "file_extension": ".jl",
   "mimetype": "application/julia",
   "name": "julia",
   "version": "1.0.5"
  }
 },
 "nbformat": 4,
 "nbformat_minor": 2
}
